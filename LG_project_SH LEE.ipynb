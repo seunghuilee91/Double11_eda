{
 "cells": [
  {
   "cell_type": "markdown",
   "metadata": {},
   "source": [
    "## Packages list\n",
    "It's all of the packages that I ended up using in my analysis in this code"
   ]
  },
  {
   "cell_type": "code",
   "execution_count": 26,
   "metadata": {},
   "outputs": [],
   "source": [
    "library(tidyverse)\n",
    "library(tidyquant)\n",
    "library(gridExtra)\n",
    "library(grid)\n",
    "library(ggplot2)\n",
    "library(parsedate)\n",
    "library(readr)\n",
    "library(RColorBrewer)\n",
    "library(jiebaR)\n",
    "library(wordcloud2)\n",
    "library(ggmap)\n",
    "library(rvest)\n",
    "library(httr)\n",
    "library(RSelenium)\n",
    "library(corrplot)\n",
    "library(gmodels)"
   ]
  },
  {
   "cell_type": "markdown",
   "metadata": {},
   "source": [
    "## Description\n",
    "This report explores a dataset containing all the actual transactions occurring between 11/11/2019 00:00:00 and 11/11/2019 11:59:59 through Tmall Global Flagship store.\n"
   ]
  },
  {
   "cell_type": "markdown",
   "metadata": {},
   "source": [
    "# Reading in the data\n",
    "Load the Data"
   ]
  },
  {
   "cell_type": "code",
   "execution_count": 28,
   "metadata": {},
   "outputs": [
    {
     "name": "stderr",
     "output_type": "stream",
     "text": [
      "Parsed with column specification:\n",
      "cols(\n",
      "  order_date = col_character(),\n",
      "  invoice_date = col_character(),\n",
      "  invoice_num = col_double(),\n",
      "  cust_id = col_character(),\n",
      "  country = col_character(),\n",
      "  SumPurchases = col_double(),\n",
      "  shipping_charge = col_double(),\n",
      "  quantity = col_double(),\n",
      "  stock_code = col_double(),\n",
      "  tax = col_double(),\n",
      "  description = col_character()\n",
      ")\n"
     ]
    }
   ],
   "source": [
    "df <- read_csv(\"ndouble11_test.csv\")"
   ]
  },
  {
   "cell_type": "markdown",
   "metadata": {},
   "source": [
    "View the row data"
   ]
  },
  {
   "cell_type": "code",
   "execution_count": 29,
   "metadata": {},
   "outputs": [
    {
     "data": {
      "text/html": [
       "<table>\n",
       "<thead><tr><th scope=col>order_date</th><th scope=col>invoice_date</th><th scope=col>invoice_num</th><th scope=col>cust_id</th><th scope=col>country</th><th scope=col>SumPurchases</th><th scope=col>shipping_charge</th><th scope=col>quantity</th><th scope=col>stock_code</th><th scope=col>tax</th><th scope=col>description</th></tr></thead>\n",
       "<tbody>\n",
       "\t<tr><td>2019-11-11 0:29                                                                                               </td><td>2019-11-11 0:30                                                                                               </td><td>7.156559e+13                                                                                                  </td><td><span style=white-space:pre-wrap>余春&lt;U+67AB&gt;      </span>                                              </td><td>Chongqing                                                                                                     </td><td><span style=white-space:pre-wrap>  0.40</span>                                                                </td><td>0                                                                                                             </td><td>2                                                                                                             </td><td>5.37183e+11                                                                                                   </td><td> 0.00                                                                                                         </td><td><span style=white-space:pre-wrap>테크 울드라이 용기 1500ML 세탁세제                                    </span></td></tr>\n",
       "\t<tr><td>2019-11-11 0:29                                                                                               </td><td>2019-11-11 0:30                                                                                               </td><td>7.156559e+13                                                                                                  </td><td><span style=white-space:pre-wrap>余春&lt;U+67AB&gt;      </span>                                              </td><td>Chongqing                                                                                                     </td><td><span style=white-space:pre-wrap>  0.40</span>                                                                </td><td>0                                                                                                             </td><td>2                                                                                                             </td><td>5.47073e+11                                                                                                   </td><td> 0.00                                                                                                         </td><td><span style=white-space:pre-wrap>테크 울드라이 1300ML                                                  </span></td></tr>\n",
       "\t<tr><td>2019-11-11 0:00                                                       </td><td>2019-11-11 0:00                                                       </td><td>7.156559e+13                                                          </td><td>&lt;U+5F20&gt;嘉&lt;U+9759&gt;                                        </td><td><span style=white-space:pre-wrap>Yunnan   </span>                     </td><td>100.80                                                                </td><td>0                                                                     </td><td>1                                                                     </td><td>5.50601e+11                                                           </td><td> 8.41                                                                 </td><td>RE닥터그루트 지성두피용 샴푸 400ml+ RE닥터그루트 지성두피용 200ml 증정</td></tr>\n",
       "\t<tr><td>2019-11-11 0:13                                                                                               </td><td>2019-11-11 0:13                                                                                               </td><td>7.156559e+13                                                                                                  </td><td><span style=white-space:pre-wrap>&lt;U+891A&gt;慧芬      </span>                                              </td><td>Zhejiang                                                                                                      </td><td> 12.23                                                                                                        </td><td>0                                                                                                             </td><td>1                                                                                                             </td><td>5.86484e+11                                                                                                   </td><td> 2.59                                                                                                         </td><td><span style=white-space:pre-wrap>염모제 스마트염색(원터치)_흑색                                        </span></td></tr>\n",
       "\t<tr><td>2019-10-31 17:51                                                                                              </td><td>2019-11-11 1:12                                                                                               </td><td>7.156560e+13                                                                                                  </td><td><span style=white-space:pre-wrap>大熊&lt;U+5B9D&gt;殿    </span>                                              </td><td>Guangdong                                                                                                     </td><td>111.36                                                                                                        </td><td>0                                                                                                             </td><td>4                                                                                                             </td><td>5.96291e+11                                                                                                   </td><td>19.52                                                                                                         </td><td><span style=white-space:pre-wrap>윤고 더 퍼스트 400ml+50ml(신)_기획                                    </span></td></tr>\n",
       "\t<tr><td>2019-11-11 0:02                                                       </td><td>2019-11-11 0:02                                                       </td><td>7.156560e+13                                                          </td><td>程程                                                                  </td><td>Jilin                                                                 </td><td>530.61                                                                </td><td>0                                                                     </td><td>6                                                                     </td><td>5.53141e+11                                                           </td><td>52.97                                                                 </td><td>토디앙 핑크퐁 팬티 특대형 여아 36P                                    </td></tr>\n",
       "</tbody>\n",
       "</table>\n"
      ],
      "text/latex": [
       "\\begin{tabular}{r|lllllllllll}\n",
       " order\\_date & invoice\\_date & invoice\\_num & cust\\_id & country & SumPurchases & shipping\\_charge & quantity & stock\\_code & tax & description\\\\\n",
       "\\hline\n",
       "\t 2019-11-11 0:29                                                        & 2019-11-11 0:30                                                        & 7.156559e+13                                                           & 余春<U+67AB>                                                           & Chongqing                                                              &   0.40                                                                 & 0                                                                      & 2                                                                      & 5.37183e+11                                                            &  0.00                                                                  & 테크 울드라이 용기 1500ML 세탁세제                                    \\\\\n",
       "\t 2019-11-11 0:29                                                        & 2019-11-11 0:30                                                        & 7.156559e+13                                                           & 余春<U+67AB>                                                           & Chongqing                                                              &   0.40                                                                 & 0                                                                      & 2                                                                      & 5.47073e+11                                                            &  0.00                                                                  & 테크 울드라이 1300ML                                                  \\\\\n",
       "\t 2019-11-11 0:00                                                        & 2019-11-11 0:00                                                        & 7.156559e+13                                                           & <U+5F20>嘉<U+9759>                                                     & Yunnan                                                                 & 100.80                                                                 & 0                                                                      & 1                                                                      & 5.50601e+11                                                            &  8.41                                                                  & RE닥터그루트 지성두피용 샴푸 400ml+ RE닥터그루트 지성두피용 200ml 증정\\\\\n",
       "\t 2019-11-11 0:13                                                          & 2019-11-11 0:13                                                          & 7.156559e+13                                                             & <U+891A>慧芬                                                             & Zhejiang                                                                 &  12.23                                                                   & 0                                                                        & 1                                                                        & 5.86484e+11                                                              &  2.59                                                                    & 염모제 스마트염색(원터치)\\_흑색                                        \\\\\n",
       "\t 2019-10-31 17:51                                                         & 2019-11-11 1:12                                                          & 7.156560e+13                                                             & 大熊<U+5B9D>殿                                                           & Guangdong                                                                & 111.36                                                                   & 0                                                                        & 4                                                                        & 5.96291e+11                                                              & 19.52                                                                    & 윤고 더 퍼스트 400ml+50ml(신)\\_기획                                    \\\\\n",
       "\t 2019-11-11 0:02                                                        & 2019-11-11 0:02                                                        & 7.156560e+13                                                           & 程程                                                                   & Jilin                                                                  & 530.61                                                                 & 0                                                                      & 6                                                                      & 5.53141e+11                                                            & 52.97                                                                  & 토디앙 핑크퐁 팬티 특대형 여아 36P                                    \\\\\n",
       "\\end{tabular}\n"
      ],
      "text/markdown": [
       "\n",
       "| order_date | invoice_date | invoice_num | cust_id | country | SumPurchases | shipping_charge | quantity | stock_code | tax | description |\n",
       "|---|---|---|---|---|---|---|---|---|---|---|\n",
       "| 2019-11-11 0:29                                                        | 2019-11-11 0:30                                                        | 7.156559e+13                                                           | 余春<U+67AB>                                                           | Chongqing                                                              |   0.40                                                                 | 0                                                                      | 2                                                                      | 5.37183e+11                                                            |  0.00                                                                  | 테크 울드라이 용기 1500ML 세탁세제                                     |\n",
       "| 2019-11-11 0:29                                                        | 2019-11-11 0:30                                                        | 7.156559e+13                                                           | 余春<U+67AB>                                                           | Chongqing                                                              |   0.40                                                                 | 0                                                                      | 2                                                                      | 5.47073e+11                                                            |  0.00                                                                  | 테크 울드라이 1300ML                                                   |\n",
       "| 2019-11-11 0:00                                                        | 2019-11-11 0:00                                                        | 7.156559e+13                                                           | <U+5F20>嘉<U+9759>                                                     | Yunnan                                                                 | 100.80                                                                 | 0                                                                      | 1                                                                      | 5.50601e+11                                                            |  8.41                                                                  | RE닥터그루트 지성두피용 샴푸 400ml+ RE닥터그루트 지성두피용 200ml 증정 |\n",
       "| 2019-11-11 0:13                                                        | 2019-11-11 0:13                                                        | 7.156559e+13                                                           | <U+891A>慧芬                                                           | Zhejiang                                                               |  12.23                                                                 | 0                                                                      | 1                                                                      | 5.86484e+11                                                            |  2.59                                                                  | 염모제 스마트염색(원터치)_흑색                                         |\n",
       "| 2019-10-31 17:51                                                       | 2019-11-11 1:12                                                        | 7.156560e+13                                                           | 大熊<U+5B9D>殿                                                         | Guangdong                                                              | 111.36                                                                 | 0                                                                      | 4                                                                      | 5.96291e+11                                                            | 19.52                                                                  | 윤고 더 퍼스트 400ml+50ml(신)_기획                                     |\n",
       "| 2019-11-11 0:02                                                        | 2019-11-11 0:02                                                        | 7.156560e+13                                                           | 程程                                                                   | Jilin                                                                  | 530.61                                                                 | 0                                                                      | 6                                                                      | 5.53141e+11                                                            | 52.97                                                                  | 토디앙 핑크퐁 팬티 특대형 여아 36P                                     |\n",
       "\n"
      ],
      "text/plain": [
       "  order_date       invoice_date    invoice_num  cust_id            country  \n",
       "1 2019-11-11 0:29  2019-11-11 0:30 7.156559e+13 余春<U+67AB>       Chongqing\n",
       "2 2019-11-11 0:29  2019-11-11 0:30 7.156559e+13 余春<U+67AB>       Chongqing\n",
       "3 2019-11-11 0:00  2019-11-11 0:00 7.156559e+13 <U+5F20>嘉<U+9759> Yunnan   \n",
       "4 2019-11-11 0:13  2019-11-11 0:13 7.156559e+13 <U+891A>慧芬       Zhejiang \n",
       "5 2019-10-31 17:51 2019-11-11 1:12 7.156560e+13 大熊<U+5B9D>殿     Guangdong\n",
       "6 2019-11-11 0:02  2019-11-11 0:02 7.156560e+13 程程               Jilin    \n",
       "  SumPurchases shipping_charge quantity stock_code  tax  \n",
       "1   0.40       0               2        5.37183e+11  0.00\n",
       "2   0.40       0               2        5.47073e+11  0.00\n",
       "3 100.80       0               1        5.50601e+11  8.41\n",
       "4  12.23       0               1        5.86484e+11  2.59\n",
       "5 111.36       0               4        5.96291e+11 19.52\n",
       "6 530.61       0               6        5.53141e+11 52.97\n",
       "  description                                                           \n",
       "1 테크 울드라이 용기 1500ML 세탁세제                                    \n",
       "2 테크 울드라이 1300ML                                                  \n",
       "3 RE닥터그루트 지성두피용 샴푸 400ml+ RE닥터그루트 지성두피용 200ml 증정\n",
       "4 염모제 스마트염색(원터치)_흑색                                        \n",
       "5 윤고 더 퍼스트 400ml+50ml(신)_기획                                    \n",
       "6 토디앙 핑크퐁 팬티 특대형 여아 36P                                    "
      ]
     },
     "metadata": {},
     "output_type": "display_data"
    }
   ],
   "source": [
    "head(df)"
   ]
  },
  {
   "cell_type": "markdown",
   "metadata": {},
   "source": [
    "Rename a wrong variable "
   ]
  },
  {
   "cell_type": "code",
   "execution_count": 30,
   "metadata": {},
   "outputs": [],
   "source": [
    "df <- rename(df, \"province\" = \"country\")"
   ]
  },
  {
   "cell_type": "markdown",
   "metadata": {},
   "source": [
    "Create separate features for datetime components and show its status (btw order / return) "
   ]
  },
  {
   "cell_type": "code",
   "execution_count": 31,
   "metadata": {},
   "outputs": [],
   "source": [
    "df <- \n",
    " df %>% \n",
    " mutate(order_hour = hour(df$invoice_date),\n",
    "  order_min = minute(df$invoice_date),\n",
    "  order_return = ifelse(SumPurchases >0, \"order\", \"return\"))"
   ]
  },
  {
   "cell_type": "markdown",
   "metadata": {},
   "source": [
    "Drop the nulls "
   ]
  },
  {
   "cell_type": "code",
   "execution_count": 32,
   "metadata": {},
   "outputs": [],
   "source": [
    "df <- na.omit(df)"
   ]
  },
  {
   "cell_type": "markdown",
   "metadata": {},
   "source": [
    "View and summarize the data"
   ]
  },
  {
   "cell_type": "code",
   "execution_count": 33,
   "metadata": {},
   "outputs": [
    {
     "name": "stdout",
     "output_type": "stream",
     "text": [
      "Classes 'tbl_df', 'tbl' and 'data.frame':\t19776 obs. of  14 variables:\n",
      " $ order_date     : chr  \"2019-11-11 0:29\" \"2019-11-11 0:29\" \"2019-11-11 0:00\" \"2019-11-11 0:13\" ...\n",
      " $ invoice_date   : chr  \"2019-11-11 0:30\" \"2019-11-11 0:30\" \"2019-11-11 0:00\" \"2019-11-11 0:13\" ...\n",
      " $ invoice_num    : num  7.16e+13 7.16e+13 7.16e+13 7.16e+13 7.16e+13 ...\n",
      " $ cust_id        : chr  \"余春<U+67AB>\" \"余春<U+67AB>\" \"<U+5F20>嘉<U+9759>\" \"<U+891A>慧芬\" ...\n",
      " $ province       : chr  \"Chongqing\" \"Chongqing\" \"Yunnan\" \"Zhejiang\" ...\n",
      " $ SumPurchases   : num  0.4 0.4 100.8 12.2 111.4 ...\n",
      " $ shipping_charge: num  0 0 0 0 0 0 0 0 0 0 ...\n",
      " $ quantity       : num  2 2 1 1 4 6 1 1 1 1 ...\n",
      " $ stock_code     : num  5.37e+11 5.47e+11 5.51e+11 5.86e+11 5.96e+11 ...\n",
      " $ tax            : num  0 0 8.41 2.59 19.52 ...\n",
      " $ description    : chr  \"테크 울드라이 용기 1500ML 세탁세제\" \"테크 울드라이 1300ML\" \"RE닥터그루트 지성두피용 샴푸 400ml+ RE닥터그루트 지성두피용 200ml 증정\" \"염모제 스마트염색(원터치)_흑색\" ...\n",
      " $ order_hour     : int  0 0 0 0 1 0 0 0 0 0 ...\n",
      " $ order_min      : int  30 30 0 13 12 2 25 25 1 17 ...\n",
      " $ order_return   : chr  \"order\" \"order\" \"order\" \"order\" ...\n"
     ]
    }
   ],
   "source": [
    "str(df)"
   ]
  },
  {
   "cell_type": "markdown",
   "metadata": {},
   "source": [
    "# Exploratory Data Analysis (EDA)\n",
    "## 1) Transactions by country\n",
    "Since province is categorical variable, now we need to plot a bar"
   ]
  },
  {
   "cell_type": "code",
   "execution_count": 39,
   "metadata": {},
   "outputs": [
    {
     "name": "stdout",
     "output_type": "stream",
     "text": [
      "# A tibble: 10 x 2\n",
      "   province      n\n",
      "   <chr>     <int>\n",
      " 1 Guangdong  2406\n",
      " 2 Jiangsu    1953\n",
      " 3 Zhejiang   1949\n",
      " 4 Shanghai   1571\n",
      " 5 Shandong   1455\n",
      " 6 Beijing     850\n",
      " 7 Hubei       824\n",
      " 8 Henan       813\n",
      " 9 Fujian      797\n",
      "10 Liaoning    794\n"
     ]
    }
   ],
   "source": [
    "df %>% \n",
    " count(province) %>% \n",
    " arrange(-n) %>% \n",
    " head(10) %>% \n",
    " print()"
   ]
  },
  {
   "cell_type": "code",
   "execution_count": 40,
   "metadata": {},
   "outputs": [
    {
     "data": {
      "image/png": "[encoded data removed]",
      "text/plain": [
       "plot without title"
      ]
     },
     "metadata": {},
     "output_type": "display_data"
    }
   ],
   "source": [
    "df %>%\n",
    " ggplot(aes(province))+ geom_bar()+\n",
    " scale_fill_manual(values = palette_light()) +\n",
    " theme_tq() +\n",
    " theme(legend.position = \"right\") +\n",
    " theme(axis.text.x = element_text(angle = 45, vjust = 1, hjust = 1)) +\n",
    " labs(x = \"\",\n",
    "  fill = \"\")"
   ]
  },
  {
   "cell_type": "markdown",
   "metadata": {},
   "source": [
    "now we can see that Guangdong, Jiangsu, Zhejiang, Shanghai are the top cities of having the most transactions."
   ]
  },
  {
   "cell_type": "markdown",
   "metadata": {},
   "source": [
    "Continuous variable with the distribution ; histogram"
   ]
  },
  {
   "cell_type": "code",
   "execution_count": 41,
   "metadata": {},
   "outputs": [
    {
     "data": {
      "image/png": "[encoded data removed]",
      "text/plain": [
       "plot without title"
      ]
     },
     "metadata": {},
     "output_type": "display_data"
    }
   ],
   "source": [
    "a <- ggplot(data = df) +\n",
    " geom_histogram(mapping = aes(x = quantity), binwidth = 1)\n",
    "\n",
    "b <- ggplot(data = df, mapping = aes(x = quantity, colour = province)) +\n",
    " geom_freqpoly(binwidth = 1.5)\n",
    "\n",
    "grid.arrange(a, b, ncol = 1)"
   ]
  },
  {
   "cell_type": "code",
   "execution_count": 42,
   "metadata": {},
   "outputs": [
    {
     "data": {
      "text/html": [
       "<table>\n",
       "<thead><tr><th scope=col>cut_width(quantity, 1)</th><th scope=col>n</th><th scope=col>percentage</th></tr></thead>\n",
       "<tbody>\n",
       "\t<tr><td>[0.5,1.5]  </td><td>12176      </td><td>61.56957929</td></tr>\n",
       "\t<tr><td>(1.5,2.5]  </td><td> 5936      </td><td>30.01618123</td></tr>\n",
       "\t<tr><td>(2.5,3.5]  </td><td> 1040      </td><td> 5.25889968</td></tr>\n",
       "\t<tr><td>(3.5,4.5]  </td><td>  518      </td><td> 2.61933657</td></tr>\n",
       "\t<tr><td>(4.5,5.5]  </td><td>   18      </td><td> 0.09101942</td></tr>\n",
       "\t<tr><td>(5.5,6.5]  </td><td>   29      </td><td> 0.14664239</td></tr>\n",
       "\t<tr><td>(7.5,8.5]  </td><td>    8      </td><td> 0.04045307</td></tr>\n",
       "\t<tr><td>(8.5,9.5]  </td><td>    2      </td><td> 0.01011327</td></tr>\n",
       "\t<tr><td>(9.5,10.5] </td><td>   47      </td><td> 0.23766181</td></tr>\n",
       "\t<tr><td>(11.5,12.5]</td><td>    2      </td><td> 0.01011327</td></tr>\n",
       "</tbody>\n",
       "</table>\n"
      ],
      "text/latex": [
       "\\begin{tabular}{r|lll}\n",
       " cut\\_width(quantity, 1) & n & percentage\\\\\n",
       "\\hline\n",
       "\t {[}0.5,1.5{]}   & 12176           & 61.56957929    \\\\\n",
       "\t (1.5,2.5{]}   &  5936         & 30.01618123  \\\\\n",
       "\t (2.5,3.5{]}   &  1040         &  5.25889968  \\\\\n",
       "\t (3.5,4.5{]}   &   518         &  2.61933657  \\\\\n",
       "\t (4.5,5.5{]}   &    18         &  0.09101942  \\\\\n",
       "\t (5.5,6.5{]}   &    29         &  0.14664239  \\\\\n",
       "\t (7.5,8.5{]}   &     8         &  0.04045307  \\\\\n",
       "\t (8.5,9.5{]}   &     2         &  0.01011327  \\\\\n",
       "\t (9.5,10.5{]}  &    47         &  0.23766181  \\\\\n",
       "\t (11.5,12.5{]} &     2         &  0.01011327  \\\\\n",
       "\\end{tabular}\n"
      ],
      "text/markdown": [
       "\n",
       "| cut_width(quantity, 1) | n | percentage |\n",
       "|---|---|---|\n",
       "| [0.5,1.5]   | 12176       | 61.56957929 |\n",
       "| (1.5,2.5]   |  5936       | 30.01618123 |\n",
       "| (2.5,3.5]   |  1040       |  5.25889968 |\n",
       "| (3.5,4.5]   |   518       |  2.61933657 |\n",
       "| (4.5,5.5]   |    18       |  0.09101942 |\n",
       "| (5.5,6.5]   |    29       |  0.14664239 |\n",
       "| (7.5,8.5]   |     8       |  0.04045307 |\n",
       "| (8.5,9.5]   |     2       |  0.01011327 |\n",
       "| (9.5,10.5]  |    47       |  0.23766181 |\n",
       "| (11.5,12.5] |     2       |  0.01011327 |\n",
       "\n"
      ],
      "text/plain": [
       "   cut_width(quantity, 1) n     percentage \n",
       "1  [0.5,1.5]              12176 61.56957929\n",
       "2  (1.5,2.5]               5936 30.01618123\n",
       "3  (2.5,3.5]               1040  5.25889968\n",
       "4  (3.5,4.5]                518  2.61933657\n",
       "5  (4.5,5.5]                 18  0.09101942\n",
       "6  (5.5,6.5]                 29  0.14664239\n",
       "7  (7.5,8.5]                  8  0.04045307\n",
       "8  (8.5,9.5]                  2  0.01011327\n",
       "9  (9.5,10.5]                47  0.23766181\n",
       "10 (11.5,12.5]                2  0.01011327"
      ]
     },
     "metadata": {},
     "output_type": "display_data"
    }
   ],
   "source": [
    "df %>% \n",
    " count(cut_width(quantity, 1)) %>% \n",
    " mutate(percentage = n/sum(n)*100)"
   ]
  },
  {
   "cell_type": "markdown",
   "metadata": {},
   "source": [
    "as we can see abvoe, most of customer seem to buy just an item or two up to 91.6% "
   ]
  },
  {
   "cell_type": "markdown",
   "metadata": {},
   "source": [
    "## 2) Transactions over time\n",
    "Let’s look at the income/loss from transactions over time."
   ]
  },
  {
   "cell_type": "code",
   "execution_count": 43,
   "metadata": {},
   "outputs": [
    {
     "data": {
      "image/png": "[encoded data removed]",
      "text/plain": [
       "plot without title"
      ]
     },
     "metadata": {},
     "output_type": "display_data"
    }
   ],
   "source": [
    "df %>%\n",
    " ggplot(aes(x = order_hour)) +\n",
    " geom_freqpoly(bins = 100, size = 1, binwidth = 1/4) +\n",
    " scale_color_manual(values = palette_light()) +\n",
    " theme_tq() +\n",
    " guides(color = FALSE) +\n",
    " labs(title = \"Number of purchases for 24 hours\",\n",
    "  x = \"hour\")"
   ]
  },
  {
   "cell_type": "code",
   "execution_count": 44,
   "metadata": {},
   "outputs": [
    {
     "data": {
      "image/png": "[encoded data removed]",
      "text/plain": [
       "plot without title"
      ]
     },
     "metadata": {},
     "output_type": "display_data"
    }
   ],
   "source": [
    "df %>%\n",
    " filter(order_hour==0) %>% \n",
    " group_by(order_min) %>%\n",
    " summarise(Total_amount = sum(SumPurchases)) %>%\n",
    " ggplot(aes(x = order_min, y = Total_amount)) +\n",
    " geom_line(size = 1, alpha = 0.8) +\n",
    " scale_color_manual(values = palette_light()) +\n",
    " theme_tq() +\n",
    " guides(color = FALSE) +\n",
    " labs(title = \"Income from purchases for just one hour\",\n",
    "  x = \"00:00 - 00:59\",\n",
    "  y = \"sum of amount\",\n",
    "  color = \"\")"
   ]
  },
  {
   "cell_type": "code",
   "execution_count": 45,
   "metadata": {},
   "outputs": [
    {
     "data": {
      "image/png": "[encoded data removed]",
      "text/plain": [
       "plot without title"
      ]
     },
     "metadata": {},
     "output_type": "display_data"
    }
   ],
   "source": [
    "df %>%\n",
    " ggplot(aes(x = order_min, y = order_hour)) +\n",
    " stat_bin2d(alpha = 0.8, bins = 25, color = \"white\") +\n",
    " scale_fill_gradientn(colours = c(palette_light()[[1]], palette_light()[[2]])) +\n",
    " theme_tq() +\n",
    " theme(legend.position = \"right\") +\n",
    " labs(title = \"Purchases per both hour and min\")"
   ]
  },
  {
   "cell_type": "markdown",
   "metadata": {},
   "source": [
    "3) Transactions over Items!\n",
    "Also of interest are the items that are being purchases the most. Here, we sum up the net quantities for each item."
   ]
  },
  {
   "cell_type": "code",
   "execution_count": 46,
   "metadata": {},
   "outputs": [
    {
     "data": {
      "text/html": [
       "<table>\n",
       "<thead><tr><th scope=col>stock_code</th><th scope=col>description</th><th scope=col>sum</th></tr></thead>\n",
       "<tbody>\n",
       "\t<tr><td>5.96291e+11                                                           </td><td>윤고 더 퍼스트 400ml+50ml(신)_기획                                    </td><td>5210                                                                  </td></tr>\n",
       "\t<tr><td>5.47073e+11                                                           </td><td>테크 울드라이 1300ML                                                  </td><td>3752                                                                  </td></tr>\n",
       "\t<tr><td>5.37183e+11                                                           </td><td>테크 울드라이 용기 1500ML 세탁세제                                    </td><td>3724                                                                  </td></tr>\n",
       "\t<tr><td>5.37297e+11                                                           </td><td>페리오 토탈 7 마일드 120g                                             </td><td>2256                                                                  </td></tr>\n",
       "\t<tr><td>5.40352e+11                                                           </td><td>FiJi시트세제 30매*2                                                   </td><td>1897                                                                  </td></tr>\n",
       "\t<tr><td>5.98468e+11                                                                                                       </td><td><span style=white-space:pre-wrap>온)보타니크 바디워시 레몬&amp;노니 500mL                                  </span></td><td>1185                                                                                                              </td></tr>\n",
       "\t<tr><td>5.42578e+11                                                           </td><td>죽염 잇몸고 펌프 치약 285g*2+V죽염 칫솔 잇몸전문 2+1입_베             </td><td> 999                                                                  </td></tr>\n",
       "\t<tr><td>5.50601e+11                                                           </td><td>RE닥터그루트 지성두피용 샴푸 400ml+ RE닥터그루트 지성두피용 200ml 증정</td><td> 844                                                                  </td></tr>\n",
       "\t<tr><td>5.86269e+11                                                           </td><td>염모제 스마트염색(원터치)_자연갈색                                    </td><td> 500                                                                  </td></tr>\n",
       "\t<tr><td>5.72042e+11                                                           </td><td>죽염 히말라야 플로럴민트 100g                                         </td><td> 472                                                                  </td></tr>\n",
       "</tbody>\n",
       "</table>\n"
      ],
      "text/latex": [
       "\\begin{tabular}{r|lll}\n",
       " stock\\_code & description & sum\\\\\n",
       "\\hline\n",
       "\t 5.96291e+11                                                              & 윤고 더 퍼스트 400ml+50ml(신)\\_기획                                     & 5210                                                                    \\\\\n",
       "\t 5.47073e+11                                                            & 테크 울드라이 1300ML                                                   & 3752                                                                  \\\\\n",
       "\t 5.37183e+11                                                            & 테크 울드라이 용기 1500ML 세탁세제                                     & 3724                                                                  \\\\\n",
       "\t 5.37297e+11                                                            & 페리오 토탈 7 마일드 120g                                              & 2256                                                                  \\\\\n",
       "\t 5.40352e+11                                                            & FiJi시트세제 30매*2                                                    & 1897                                                                  \\\\\n",
       "\t 5.98468e+11                                                              & 온)보타니크 바디워시 레몬\\&노니 500mL                                   & 1185                                                                    \\\\\n",
       "\t 5.42578e+11                                                              & 죽염 잇몸고 펌프 치약 285g*2+V죽염 칫솔 잇몸전문 2+1입\\_베              &  999                                                                    \\\\\n",
       "\t 5.50601e+11                                                            & RE닥터그루트 지성두피용 샴푸 400ml+ RE닥터그루트 지성두피용 200ml 증정 &  844                                                                  \\\\\n",
       "\t 5.86269e+11                                                              & 염모제 스마트염색(원터치)\\_자연갈색                                     &  500                                                                    \\\\\n",
       "\t 5.72042e+11                                                            & 죽염 히말라야 플로럴민트 100g                                          &  472                                                                  \\\\\n",
       "\\end{tabular}\n"
      ],
      "text/markdown": [
       "\n",
       "| stock_code | description | sum |\n",
       "|---|---|---|\n",
       "| 5.96291e+11                                                            | 윤고 더 퍼스트 400ml+50ml(신)_기획                                     | 5210                                                                   |\n",
       "| 5.47073e+11                                                            | 테크 울드라이 1300ML                                                   | 3752                                                                   |\n",
       "| 5.37183e+11                                                            | 테크 울드라이 용기 1500ML 세탁세제                                     | 3724                                                                   |\n",
       "| 5.37297e+11                                                            | 페리오 토탈 7 마일드 120g                                              | 2256                                                                   |\n",
       "| 5.40352e+11                                                            | FiJi시트세제 30매*2                                                    | 1897                                                                   |\n",
       "| 5.98468e+11                                                            | 온)보타니크 바디워시 레몬&노니 500mL                                   | 1185                                                                   |\n",
       "| 5.42578e+11                                                            | 죽염 잇몸고 펌프 치약 285g*2+V죽염 칫솔 잇몸전문 2+1입_베              |  999                                                                   |\n",
       "| 5.50601e+11                                                            | RE닥터그루트 지성두피용 샴푸 400ml+ RE닥터그루트 지성두피용 200ml 증정 |  844                                                                   |\n",
       "| 5.86269e+11                                                            | 염모제 스마트염색(원터치)_자연갈색                                     |  500                                                                   |\n",
       "| 5.72042e+11                                                            | 죽염 히말라야 플로럴민트 100g                                          |  472                                                                   |\n",
       "\n"
      ],
      "text/plain": [
       "   stock_code \n",
       "1  5.96291e+11\n",
       "2  5.47073e+11\n",
       "3  5.37183e+11\n",
       "4  5.37297e+11\n",
       "5  5.40352e+11\n",
       "6  5.98468e+11\n",
       "7  5.42578e+11\n",
       "8  5.50601e+11\n",
       "9  5.86269e+11\n",
       "10 5.72042e+11\n",
       "   description                                                            sum \n",
       "1  윤고 더 퍼스트 400ml+50ml(신)_기획                                     5210\n",
       "2  테크 울드라이 1300ML                                                   3752\n",
       "3  테크 울드라이 용기 1500ML 세탁세제                                     3724\n",
       "4  페리오 토탈 7 마일드 120g                                              2256\n",
       "5  FiJi시트세제 30매*2                                                    1897\n",
       "6  온)보타니크 바디워시 레몬&노니 500mL                                   1185\n",
       "7  죽염 잇몸고 펌프 치약 285g*2+V죽염 칫솔 잇몸전문 2+1입_베               999\n",
       "8  RE닥터그루트 지성두피용 샴푸 400ml+ RE닥터그루트 지성두피용 200ml 증정  844\n",
       "9  염모제 스마트염색(원터치)_자연갈색                                      500\n",
       "10 죽염 히말라야 플로럴민트 100g                                           472"
      ]
     },
     "metadata": {},
     "output_type": "display_data"
    }
   ],
   "source": [
    "df %>% \n",
    " group_by(stock_code, description) %>% \n",
    " summarise(sum = sum(quantity)) %>%\n",
    " arrange(-sum) %>% \n",
    " head(10)"
   ]
  },
  {
   "cell_type": "code",
   "execution_count": 47,
   "metadata": {},
   "outputs": [
    {
     "data": {
      "image/png": "[encoded data removed]",
      "text/plain": [
       "plot without title"
      ]
     },
     "metadata": {},
     "output_type": "display_data"
    }
   ],
   "source": [
    "df %>%\n",
    " group_by(stock_code, description) %>% \n",
    " summarise(sum = sum(quantity)) %>% \n",
    " filter(sum>0 & sum<1000) %>%\n",
    " ggplot(aes(x = sum)) +\n",
    " geom_density(fill = palette_light()[[1]], alpha = 0.8) +\n",
    " theme_tq()"
   ]
  },
  {
   "cell_type": "markdown",
   "metadata": {},
   "source": [
    "As we can see in the plots below, the majority of items is purchases only occasionally, while a few items are purchased a lot.\n",
    "I'd likt to take a quick look at Yungo and Tech how it went for the first one hour, since it seems to be sold the most "
   ]
  },
  {
   "cell_type": "code",
   "execution_count": 48,
   "metadata": {},
   "outputs": [
    {
     "data": {
      "image/png": "[encoded data removed]",
      "text/plain": [
       "plot without title"
      ]
     },
     "metadata": {},
     "output_type": "display_data"
    }
   ],
   "source": [
    "tech <- df %>%\n",
    " filter(stock_code == 547073000000) %>%\n",
    " group_by(order_min) %>%\n",
    " summarise(sum = sum(quantity)) %>%\n",
    " ggplot(aes(x = order_min, y = sum)) +\n",
    " geom_line(size = 1, alpha = 0.1) +\n",
    " scale_color_manual(values = palette_light()) +\n",
    " theme_tq() +\n",
    " labs(x = \"\",\n",
    "  y = \"sum of quantities\",\n",
    "  color = \"\",\n",
    "  title = \"Transactions of Tech 1300ml\")\n",
    "\n",
    "\n",
    "yungo <- df %>%\n",
    " filter(stock_code == 596291000000) %>%\n",
    " group_by(order_min) %>%\n",
    " summarise(sum = sum(quantity)) %>%\n",
    " ggplot(aes(x = order_min, y = sum)) +\n",
    " geom_line(size = 1, alpha = 0.1) +\n",
    " scale_color_manual(values = palette_light()) +\n",
    " theme_tq() +\n",
    " labs(x = \"\",\n",
    "  y = \"sum of quantities\",\n",
    "  color = \"\",\n",
    "  title = \"Transactions of Yungo 400+50\")\n",
    "\n",
    "grid.arrange(tech, yungo, ncol = 1)"
   ]
  },
  {
   "cell_type": "markdown",
   "metadata": {},
   "source": [
    "## Crawling = Scraping\n",
    "I tried 3 times, failed twice and the last try worked eventually.\n",
    "I scraped a list of reviews of the brand-new item called 'on the body botanique body wash', which I just got it released, \n",
    "so I wanted to see what people are talking about it after they actually used it\n",
    "\n",
    "(1) Rvest package "
   ]
  },
  {
   "cell_type": "code",
   "execution_count": 52,
   "metadata": {
    "scrolled": true
   },
   "outputs": [
    {
     "ename": "ERROR",
     "evalue": "Error in UseMethod(\"xml_find_all\"): 클래스 \"character\"의 객체에 적용된 'xml_find_all'에 사용할수 있는 메소드가 없습니다\n",
     "output_type": "error",
     "traceback": [
      "Error in UseMethod(\"xml_find_all\"): 클래스 \"character\"의 객체에 적용된 'xml_find_all'에 사용할수 있는 메소드가 없습니다\nTraceback:\n",
      "1. html_nodes(\".tm-rate-fulltxt\") %>% html_text()",
      "2. eval(lhs, parent, parent)",
      "3. eval(lhs, parent, parent)",
      "4. html_nodes(\".tm-rate-fulltxt\")",
      "5. html_nodes.default(\".tm-rate-fulltxt\")",
      "6. xml2::xml_find_all(x, make_selector(css, xpath))"
     ]
    }
   ],
   "source": [
    "url <- 'https://detail.tmall.hk/item.htm?spm=a220m.1000858.1000725.1.6ad6297cof43fi&id=600052650795&skuId=4188286968549&user_id=2549234913&cat_id=52792006&is_b=1&rn=240fefacc0ab303bf5c7f9b55ef15623'\n",
    "\n",
    "doc <- read_html(url)\n",
    " html_nodes('.tm-rate-fulltxt') %>% \n",
    " html_text()"
   ]
  },
  {
   "cell_type": "markdown",
   "metadata": {},
   "source": [
    "(2) Phantomjs package"
   ]
  },
  {
   "cell_type": "code",
   "execution_count": 53,
   "metadata": {
    "scrolled": true
   },
   "outputs": [
    {
     "name": "stderr",
     "output_type": "stream",
     "text": [
      "Warning message in system(\"phantomjs scrape.js > scrape.html\"):\n",
      "\"'phantomjs' not found\""
     ]
    },
    {
     "data": {
      "text/html": [
       "127"
      ],
      "text/latex": [
       "127"
      ],
      "text/markdown": [
       "127"
      ],
      "text/plain": [
       "[1] 127"
      ]
     },
     "metadata": {},
     "output_type": "display_data"
    },
    {
     "name": "stderr",
     "output_type": "stream",
     "text": [
      "Warning message:\n",
      "\"'html' is deprecated.\n",
      "Use 'xml2::read_html' instead.\n",
      "See help(\"Deprecated\")\""
     ]
    },
    {
     "ename": "ERROR",
     "evalue": "Error: 'scrape.html' does not exist in current working directory ('C:/Users/seung/OneDrive/R/Rstudy_Dangsan/R1129').\n",
     "output_type": "error",
     "traceback": [
      "Error: 'scrape.html' does not exist in current working directory ('C:/Users/seung/OneDrive/R/Rstudy_Dangsan/R1129').\nTraceback:\n",
      "1. html(\"scrape.html\")",
      "2. xml2::read_html(x, ..., encoding = encoding)",
      "3. read_html.default(x, ..., encoding = encoding)",
      "4. suppressWarnings(read_xml(x, encoding = encoding, ..., as_html = TRUE, \n .     options = options))",
      "5. withCallingHandlers(expr, warning = function(w) invokeRestart(\"muffleWarning\"))",
      "6. read_xml(x, encoding = encoding, ..., as_html = TRUE, options = options)",
      "7. read_xml.character(x, encoding = encoding, ..., as_html = TRUE, \n .     options = options)",
      "8. path_to_connection(x)",
      "9. check_path(path)",
      "10. stop(\"'\", path, \"' does not exist\", if (!is_absolute_path(path)) paste0(\" in current working directory ('\", \n  .     getwd(), \"')\"), \".\", call. = FALSE)"
     ]
    }
   ],
   "source": [
    "writeLines(sprintf(\"var page = require('webpage').create();\n",
    "page.open('%s', function () {\n",
    "  console.log(page.content); //page source\n",
    "  phantom.exit();\n",
    "  });\", url), con=\"scrape.js\")\n",
    " \n",
    " system(\"phantomjs scrape.js > scrape.html\")\n",
    " \n",
    " page_html <- html(\"scrape.html\")\n",
    " page_html %>% html_nodes('class') %>% html_table()\n",
    "page_html"
   ]
  },
  {
   "cell_type": "markdown",
   "metadata": {},
   "source": [
    "(3) rselenium "
   ]
  },
  {
   "cell_type": "code",
   "execution_count": 131,
   "metadata": {},
   "outputs": [
    {
     "name": "stdout",
     "output_type": "stream",
     "text": [
      "[1] \"Connecting to remote server\"\n",
      "$acceptInsecureCerts\n",
      "[1] FALSE\n",
      "\n",
      "$browserName\n",
      "[1] \"chrome\"\n",
      "\n",
      "$browserVersion\n",
      "[1] \"78.0.3904.108\"\n",
      "\n",
      "$chrome\n",
      "$chrome$chromedriverVersion\n",
      "[1] \"78.0.3904.105 (60e2d8774a8151efa6a00b1f358371b1e0e07ee2-refs/branch-heads/3904@{#877})\"\n",
      "\n",
      "$chrome$userDataDir\n",
      "[1] \"C:\\\\Users\\\\seung\\\\AppData\\\\Local\\\\Temp\\\\scoped_dir14728_2021995576\"\n",
      "\n",
      "\n",
      "$`goog:chromeOptions`\n",
      "$`goog:chromeOptions`$debuggerAddress\n",
      "[1] \"localhost:63475\"\n",
      "\n",
      "\n",
      "$networkConnectionEnabled\n",
      "[1] FALSE\n",
      "\n",
      "$pageLoadStrategy\n",
      "[1] \"normal\"\n",
      "\n",
      "$platformName\n",
      "[1] \"windows nt\"\n",
      "\n",
      "$proxy\n",
      "named list()\n",
      "\n",
      "$setWindowRect\n",
      "[1] TRUE\n",
      "\n",
      "$strictFileInteractability\n",
      "[1] FALSE\n",
      "\n",
      "$timeouts\n",
      "$timeouts$implicit\n",
      "[1] 0\n",
      "\n",
      "$timeouts$pageLoad\n",
      "[1] 300000\n",
      "\n",
      "$timeouts$script\n",
      "[1] 30000\n",
      "\n",
      "\n",
      "$unhandledPromptBehavior\n",
      "[1] \"dismiss and notify\"\n",
      "\n",
      "$webdriver.remote.sessionid\n",
      "[1] \"8aab471252ac135c45c0341f5d0dc465\"\n",
      "\n",
      "$id\n",
      "[1] \"8aab471252ac135c45c0341f5d0dc465\"\n",
      "\n"
     ]
    }
   ],
   "source": [
    "url <- 'https://www.amazon.cn/dp/B01N5HLNB8/ref=zg_bs_beauty_1?_encoding=UTF8&psc=1&refRID=2FZYJF2Q7XT4W3NETHB1'\n",
    "remDr <- remoteDriver(port=4445L, browserName=\"chrome\") \n",
    "remDr$open() \n",
    "remDr$navigate(url)"
   ]
  },
  {
   "cell_type": "code",
   "execution_count": 132,
   "metadata": {},
   "outputs": [],
   "source": [
    "html <- remDr$getPageSource()[[1]]\n",
    "html <- read_html(html)"
   ]
  },
  {
   "cell_type": "code",
   "execution_count": 137,
   "metadata": {},
   "outputs": [
    {
     "data": {
      "text/html": [
       "'第一次买雅顿小胶囊，首先瓶壁上油乎乎的，初步断定有坏的，果然找到一个裂开的，然后数量是个，包含一个坏的，一个没有边的，瓶口没有封装，感觉很随意，再次，说明书上的产品名称跟盒子对不上，最后又发现一个有裂口的，一按就出油，这么不严谨的化妆品搞得我都不敢用了，难道我要用来抹手吗？保质期也不知道什么时候'"
      ],
      "text/latex": [
       "'第一次买雅顿小胶囊，首先瓶壁上油乎乎的，初步断定有坏的，果然找到一个裂开的，然后数量是个，包含一个坏的，一个没有边的，瓶口没有封装，感觉很随意，再次，说明书上的产品名称跟盒子对不上，最后又发现一个有裂口的，一按就出油，这么不严谨的化妆品搞得我都不敢用了，难道我要用来抹手吗？保质期也不知道什么时候'"
      ],
      "text/markdown": [
       "'第一次买雅顿小胶囊，首先瓶壁上油乎乎的，初步断定有坏的，果然找到一个裂开的，然后数量是个，包含一个坏的，一个没有边的，瓶口没有封装，感觉很随意，再次，说明书上的产品名称跟盒子对不上，最后又发现一个有裂口的，一按就出油，这么不严谨的化妆品搞得我都不敢用了，难道我要用来抹手吗？保质期也不知道什么时候'"
      ],
      "text/plain": [
       "[1] \"第一次<U+4E70>雅<U+987F>小<U+80F6>囊，首先<U+74F6>壁上油乎乎的，初步<U+65AD>定有<U+574F>的，果然<U+627E>到一<U+4E2A>裂<U+5F00>的，然后<U+6570>量是<U+4E2A>，包含一<U+4E2A><U+574F>的，一<U+4E2A><U+6CA1>有<U+8FB9>的，<U+74F6>口<U+6CA1>有封<U+88C5>，感<U+89C9><U+5F88><U+968F>意，再次，<U+8BF4>明<U+4E66>上的<U+4EA7>品名<U+79F0><U+8DDF>盒子<U+5BF9>不上，最后又<U+53D1><U+73B0>一<U+4E2A>有裂口的，一按就出油，<U+8FD9><U+4E48>不<U+4E25><U+8C28>的化<U+5986>品<U+641E>得我都不敢用了，<U+96BE>道我要用<U+6765>抹手<U+5417>？保<U+8D28>期也不知道什<U+4E48><U+65F6>候\""
      ]
     },
     "metadata": {},
     "output_type": "display_data"
    }
   ],
   "source": [
    "review <- html %>% \n",
    " html_nodes(xpath='//*[@id=\"customer_review-R1WIP8LTA698M8\"]/div[4]/span/div/div[1]/span') %>% \n",
    " html_text() \n",
    "review <- gsub(\"\\\\.\", \"\", review)\n",
    "review <- gsub(\"\\\\d+\", \"\", review)\n",
    "review <- gsub(\"\\n\", \"\", review)\n",
    "review"
   ]
  },
  {
   "cell_type": "code",
   "execution_count": null,
   "metadata": {},
   "outputs": [],
   "source": [
    "seg <- qseg[review]\n",
    "seg <- seg[nchar(seg)>1]\n",
    "seg <- table(seg)\n",
    "seg <- sort(seg, decreasing = TRUE)\n",
    "seg<-data.frame(seg)\n",
    "seg"
   ]
  },
  {
   "cell_type": "code",
   "execution_count": null,
   "metadata": {},
   "outputs": [],
   "source": [
    "wordcloud(seg$seg , seg$Freq, colors = rainbow(100), random.order=F)"
   ]
  },
  {
   "cell_type": "markdown",
   "metadata": {},
   "source": [
    "# ANOVA \n",
    "분산분석은 그룹간의 (평균)비교를 할때 사용하는 통계적 방법론 ; \n",
    "## Province와 고객 객단가의 상관관계 \n",
    "p-value: < 2.2e-16 임으로 유의미한 관계가 있다고 볼 수 있음"
   ]
  },
  {
   "cell_type": "code",
   "execution_count": 84,
   "metadata": {},
   "outputs": [
    {
     "data": {
      "text/plain": [
       "\n",
       "Call:\n",
       "lm(formula = SumPurchases ~ province, data = df)\n",
       "\n",
       "Residuals:\n",
       "    Min      1Q  Median      3Q     Max \n",
       " -86.67  -40.78  -13.43   19.36 1341.70 \n",
       "\n",
       "Coefficients:\n",
       "                      Estimate Std. Error t value Pr(>|t|)    \n",
       "(Intercept)             49.249      2.586  19.044  < 2e-16 ***\n",
       "provinceBeijing         28.743      3.443   8.347  < 2e-16 ***\n",
       "provinceChongqing        3.863      4.811   0.803 0.421980    \n",
       "provinceFujian          15.610      3.493   4.469 7.90e-06 ***\n",
       "provinceGansu           42.059      8.178   5.143 2.73e-07 ***\n",
       "provinceGuangdong        5.308      2.918   1.819 0.068935 .  \n",
       "provinceGuangxi          1.197      4.347   0.275 0.782944    \n",
       "provinceGuizhou          1.759      5.966   0.295 0.768100    \n",
       "provinceHainan          20.111      6.652   3.023 0.002502 ** \n",
       "provinceHebei            1.173      3.862   0.304 0.761362    \n",
       "provinceHeilongjiang    13.784      4.301   3.205 0.001354 ** \n",
       "provinceHenan           -3.651      3.477  -1.050 0.293774    \n",
       "provinceHubei            4.693      3.467   1.354 0.175843    \n",
       "provinceHunan            3.131      3.526   0.888 0.374607    \n",
       "provinceInnerMongolia   24.959      5.874   4.249 2.15e-05 ***\n",
       "provinceJiangsu         11.871      2.990   3.971 7.19e-05 ***\n",
       "provinceJiangxi         -4.366      3.973  -1.099 0.271804    \n",
       "provinceJilin           19.616      4.514   4.346 1.40e-05 ***\n",
       "provinceLiaoning        12.675      3.496   3.626 0.000289 ***\n",
       "provinceNingxia         23.464     11.825   1.984 0.047249 *  \n",
       "provinceQinghai          2.767     20.153   0.137 0.890788    \n",
       "provinceShaanxi         12.225      4.651   2.628 0.008587 ** \n",
       "provinceShandong        -3.825      3.116  -1.228 0.219560    \n",
       "provinceShanghai        22.123      3.080   7.183 7.05e-13 ***\n",
       "provinceShanxi          12.246      4.568   2.681 0.007346 ** \n",
       "provinceSichuan          5.132      3.761   1.364 0.172468    \n",
       "provinceTianjin         11.087      3.882   2.856 0.004298 ** \n",
       "provinceTibet           12.940     20.153   0.642 0.520828    \n",
       "provinceXinjiang         6.132      5.998   1.022 0.306632    \n",
       "provinceYunnan          37.794      5.541   6.821 9.29e-12 ***\n",
       "provinceZhejiang         4.521      2.990   1.512 0.130617    \n",
       "---\n",
       "Signif. codes:  0 '***' 0.001 '**' 0.01 '*' 0.05 '.' 0.1 ' ' 1\n",
       "\n",
       "Residual standard error: 66.29 on 19745 degrees of freedom\n",
       "Multiple R-squared:  0.01932,\tAdjusted R-squared:  0.01783 \n",
       "F-statistic: 12.97 on 30 and 19745 DF,  p-value: < 2.2e-16\n"
      ]
     },
     "metadata": {},
     "output_type": "display_data"
    }
   ],
   "source": [
    "anova_dt <- lm(SumPurchases ~ province, data = df)\n",
    "summary(anova_dt)"
   ]
  },
  {
   "cell_type": "markdown",
   "metadata": {},
   "source": [
    "lm( )을 통해 모델을 만들고 나면 새로운 데이터에 대한 예측값은 predict( )로 구할 수 있다.회귀 계수(절편과 기울기)의 신뢰 구간을 고려하기 위해 type=“confidence”를 지정하면 제동 거리의 평균 신뢰 구간을 구할 수 있다. 다음 결과에서 fit은 예측값의 점 추정치, lwr과 upr은 각각 신뢰 구간의 하한과 상한 값을 의미한다.\n",
    "\n",
    "길림성 68.9원\n",
    "광동성 54.6원\n",
    "베이징 78.0원\n",
    "\n",
    "각 성도별 상기와 같은 매출 값을 예상해 볼 수 있다"
   ]
  },
  {
   "cell_type": "code",
   "execution_count": 86,
   "metadata": {},
   "outputs": [
    {
     "data": {
      "text/html": [
       "<table>\n",
       "<thead><tr><th scope=col>fit</th><th scope=col>lwr</th><th scope=col>upr</th></tr></thead>\n",
       "<tbody>\n",
       "\t<tr><td>68.86523</td><td>61.61329</td><td>76.11717</td></tr>\n",
       "</tbody>\n",
       "</table>\n"
      ],
      "text/latex": [
       "\\begin{tabular}{r|lll}\n",
       " fit & lwr & upr\\\\\n",
       "\\hline\n",
       "\t 68.86523 & 61.61329 & 76.11717\\\\\n",
       "\\end{tabular}\n"
      ],
      "text/markdown": [
       "\n",
       "| fit | lwr | upr |\n",
       "|---|---|---|\n",
       "| 68.86523 | 61.61329 | 76.11717 |\n",
       "\n"
      ],
      "text/plain": [
       "  fit      lwr      upr     \n",
       "1 68.86523 61.61329 76.11717"
      ]
     },
     "metadata": {},
     "output_type": "display_data"
    },
    {
     "data": {
      "text/html": [
       "<table>\n",
       "<thead><tr><th scope=col>fit</th><th scope=col>lwr</th><th scope=col>upr</th></tr></thead>\n",
       "<tbody>\n",
       "\t<tr><td>54.55674</td><td>51.90788</td><td>57.2056 </td></tr>\n",
       "</tbody>\n",
       "</table>\n"
      ],
      "text/latex": [
       "\\begin{tabular}{r|lll}\n",
       " fit & lwr & upr\\\\\n",
       "\\hline\n",
       "\t 54.55674 & 51.90788 & 57.2056 \\\\\n",
       "\\end{tabular}\n"
      ],
      "text/markdown": [
       "\n",
       "| fit | lwr | upr |\n",
       "|---|---|---|\n",
       "| 54.55674 | 51.90788 | 57.2056  |\n",
       "\n"
      ],
      "text/plain": [
       "  fit      lwr      upr    \n",
       "1 54.55674 51.90788 57.2056"
      ]
     },
     "metadata": {},
     "output_type": "display_data"
    },
    {
     "data": {
      "text/html": [
       "<table>\n",
       "<thead><tr><th scope=col>fit</th><th scope=col>lwr</th><th scope=col>upr</th></tr></thead>\n",
       "<tbody>\n",
       "\t<tr><td>77.99198</td><td>73.53544</td><td>82.44851</td></tr>\n",
       "</tbody>\n",
       "</table>\n"
      ],
      "text/latex": [
       "\\begin{tabular}{r|lll}\n",
       " fit & lwr & upr\\\\\n",
       "\\hline\n",
       "\t 77.99198 & 73.53544 & 82.44851\\\\\n",
       "\\end{tabular}\n"
      ],
      "text/markdown": [
       "\n",
       "| fit | lwr | upr |\n",
       "|---|---|---|\n",
       "| 77.99198 | 73.53544 | 82.44851 |\n",
       "\n"
      ],
      "text/plain": [
       "  fit      lwr      upr     \n",
       "1 77.99198 73.53544 82.44851"
      ]
     },
     "metadata": {},
     "output_type": "display_data"
    }
   ],
   "source": [
    "predict(anova_dt, newdata = data.frame(province = \"Jilin\"),interval=\"confidence\")\n",
    "predict(anova_dt, newdata = data.frame(province = \"Guangdong\"),interval=\"confidence\")\n",
    "predict(anova_dt, newdata = data.frame(province = \"Beijing\"),interval=\"confidence\")"
   ]
  },
  {
   "cell_type": "markdown",
   "metadata": {},
   "source": [
    "## Province와 tax의 상관관계 \n",
    "p-value: < 2.2e-16 유의미한 상관관계라고 볼 수 있다"
   ]
  },
  {
   "cell_type": "code",
   "execution_count": 89,
   "metadata": {},
   "outputs": [
    {
     "data": {
      "text/plain": [
       "\n",
       "Call:\n",
       "lm(formula = tax ~ province, data = df)\n",
       "\n",
       "Residuals:\n",
       "    Min      1Q  Median      3Q     Max \n",
       "-10.500  -4.417  -1.711   2.557 128.981 \n",
       "\n",
       "Coefficients:\n",
       "                      Estimate Std. Error t value Pr(>|t|)    \n",
       "(Intercept)             7.1059     0.2854  24.895  < 2e-16 ***\n",
       "provinceBeijing         2.4440     0.3801   6.431 1.30e-10 ***\n",
       "provinceChongqing       0.4911     0.5310   0.925 0.355066    \n",
       "provinceFujian          1.6434     0.3855   4.263 2.03e-05 ***\n",
       "provinceGansu           3.1737     0.9026   3.516 0.000439 ***\n",
       "provinceGuangdong       0.3332     0.3221   1.035 0.300824    \n",
       "provinceGuangxi        -0.0873     0.4797  -0.182 0.855599    \n",
       "provinceGuizhou         0.1539     0.6585   0.234 0.815236    \n",
       "provinceHainan          1.7813     0.7341   2.426 0.015258 *  \n",
       "provinceHebei           0.2495     0.4263   0.585 0.558324    \n",
       "provinceHeilongjiang    0.7888     0.4747   1.662 0.096621 .  \n",
       "provinceHenan          -0.2087     0.3838  -0.544 0.586543    \n",
       "provinceHubei           0.8214     0.3827   2.146 0.031852 *  \n",
       "provinceHunan           0.5882     0.3891   1.511 0.130693    \n",
       "provinceInnerMongolia   1.2747     0.6483   1.966 0.049272 *  \n",
       "provinceJiangsu         1.1947     0.3300   3.621 0.000295 ***\n",
       "provinceJiangxi        -0.2687     0.4385  -0.613 0.540112    \n",
       "provinceJilin           1.4662     0.4982   2.943 0.003256 ** \n",
       "provinceLiaoning        0.9525     0.3859   2.469 0.013571 *  \n",
       "provinceNingxia         1.4872     1.3052   1.139 0.254532    \n",
       "provinceQinghai        -0.4804     2.2243  -0.216 0.829005    \n",
       "provinceShaanxi         1.0880     0.5133   2.119 0.034067 *  \n",
       "provinceShandong       -0.3072     0.3439  -0.893 0.371741    \n",
       "provinceShanghai        2.3784     0.3399   6.997 2.70e-12 ***\n",
       "provinceShanxi          1.4153     0.5041   2.807 0.004999 ** \n",
       "provinceSichuan         0.9167     0.4152   2.208 0.027240 *  \n",
       "provinceTianjin         1.0261     0.4285   2.395 0.016644 *  \n",
       "provinceTibet          -0.0795     2.2243  -0.036 0.971490    \n",
       "provinceXinjiang        0.4125     0.6621   0.623 0.533277    \n",
       "provinceYunnan          3.3940     0.6115   5.550 2.89e-08 ***\n",
       "provinceZhejiang        0.7472     0.3301   2.264 0.023585 *  \n",
       "---\n",
       "Signif. codes:  0 '***' 0.001 '**' 0.01 '*' 0.05 '.' 0.1 ' ' 1\n",
       "\n",
       "Residual standard error: 7.316 on 19745 degrees of freedom\n",
       "Multiple R-squared:  0.01296,\tAdjusted R-squared:  0.01146 \n",
       "F-statistic: 8.642 on 30 and 19745 DF,  p-value: < 2.2e-16\n"
      ]
     },
     "metadata": {},
     "output_type": "display_data"
    }
   ],
   "source": [
    "anova_dt2 <- lm(tax ~ province, data = df)\n",
    "summary(anova_dt2)"
   ]
  },
  {
   "cell_type": "markdown",
   "metadata": {},
   "source": [
    "사천성 8.02원\n",
    "베이징 9.55원\n",
    "광동성 7.44원"
   ]
  },
  {
   "cell_type": "code",
   "execution_count": 91,
   "metadata": {},
   "outputs": [
    {
     "data": {
      "text/html": [
       "<table>\n",
       "<thead><tr><th scope=col>fit</th><th scope=col>lwr</th><th scope=col>upr</th></tr></thead>\n",
       "<tbody>\n",
       "\t<tr><td>8.022598</td><td>7.431716</td><td>8.613479</td></tr>\n",
       "</tbody>\n",
       "</table>\n"
      ],
      "text/latex": [
       "\\begin{tabular}{r|lll}\n",
       " fit & lwr & upr\\\\\n",
       "\\hline\n",
       "\t 8.022598 & 7.431716 & 8.613479\\\\\n",
       "\\end{tabular}\n"
      ],
      "text/markdown": [
       "\n",
       "| fit | lwr | upr |\n",
       "|---|---|---|\n",
       "| 8.022598 | 7.431716 | 8.613479 |\n",
       "\n"
      ],
      "text/plain": [
       "  fit      lwr      upr     \n",
       "1 8.022598 7.431716 8.613479"
      ]
     },
     "metadata": {},
     "output_type": "display_data"
    },
    {
     "data": {
      "text/html": [
       "<table>\n",
       "<thead><tr><th scope=col>fit</th><th scope=col>lwr</th><th scope=col>upr</th></tr></thead>\n",
       "<tbody>\n",
       "\t<tr><td>9.549847</td><td>9.057979</td><td>10.04172</td></tr>\n",
       "</tbody>\n",
       "</table>\n"
      ],
      "text/latex": [
       "\\begin{tabular}{r|lll}\n",
       " fit & lwr & upr\\\\\n",
       "\\hline\n",
       "\t 9.549847 & 9.057979 & 10.04172\\\\\n",
       "\\end{tabular}\n"
      ],
      "text/markdown": [
       "\n",
       "| fit | lwr | upr |\n",
       "|---|---|---|\n",
       "| 9.549847 | 9.057979 | 10.04172 |\n",
       "\n"
      ],
      "text/plain": [
       "  fit      lwr      upr     \n",
       "1 9.549847 9.057979 10.04172"
      ]
     },
     "metadata": {},
     "output_type": "display_data"
    },
    {
     "data": {
      "text/html": [
       "<table>\n",
       "<thead><tr><th scope=col>fit</th><th scope=col>lwr</th><th scope=col>upr</th></tr></thead>\n",
       "<tbody>\n",
       "\t<tr><td>7.439086</td><td>7.146731</td><td>7.73144 </td></tr>\n",
       "</tbody>\n",
       "</table>\n"
      ],
      "text/latex": [
       "\\begin{tabular}{r|lll}\n",
       " fit & lwr & upr\\\\\n",
       "\\hline\n",
       "\t 7.439086 & 7.146731 & 7.73144 \\\\\n",
       "\\end{tabular}\n"
      ],
      "text/markdown": [
       "\n",
       "| fit | lwr | upr |\n",
       "|---|---|---|\n",
       "| 7.439086 | 7.146731 | 7.73144  |\n",
       "\n"
      ],
      "text/plain": [
       "  fit      lwr      upr    \n",
       "1 7.439086 7.146731 7.73144"
      ]
     },
     "metadata": {},
     "output_type": "display_data"
    }
   ],
   "source": [
    "predict(anova_dt2, newdata = data.frame(province = \"Sichuan\"),interval=\"confidence\")\n",
    "predict(anova_dt2, newdata = data.frame(province = \"Beijing\"),interval=\"confidence\")\n",
    "predict(anova_dt2, newdata = data.frame(province = \"Guangdong\"),interval=\"confidence\")"
   ]
  }
 ],
 "metadata": {
  "kernelspec": {
   "display_name": "R",
   "language": "R",
   "name": "ir"
  },
  "language_info": {
   "codemirror_mode": "r",
   "file_extension": ".r",
   "mimetype": "text/x-r-source",
   "name": "R",
   "pygments_lexer": "r",
   "version": "3.6.1"
  }
 },
 "nbformat": 4,
 "nbformat_minor": 2
}
