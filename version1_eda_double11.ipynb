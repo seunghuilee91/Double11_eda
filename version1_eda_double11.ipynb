{
 "cells": [
  {
   "cell_type": "markdown",
   "metadata": {},
   "source": [
    "The central package is tidyverse, which contains tidyr, dplyr, ggplot, etc. Other packages I am using are tidyquant for its nice ggplot theme, modelr, gridExtra and grid for additional plotting functionalities."
   ]
  },
  {
   "cell_type": "code",
   "execution_count": 1,
   "metadata": {},
   "outputs": [
    {
     "name": "stderr",
     "output_type": "stream",
     "text": [
      "-- Attaching packages --------------------------------------- tidyverse 1.2.1 --\n",
      "√ ggplot2 3.2.1     √ purrr   0.3.2\n",
      "√ tibble  2.1.1     √ dplyr   0.8.3\n",
      "√ tidyr   0.8.3     √ stringr 1.4.0\n",
      "√ readr   1.3.1     √ forcats 0.4.0\n",
      "-- Conflicts ------------------------------------------ tidyverse_conflicts() --\n",
      "x dplyr::filter() masks stats::filter()\n",
      "x dplyr::lag()    masks stats::lag()\n",
      "Loading required package: lubridate\n",
      "\n",
      "Attaching package: 'lubridate'\n",
      "\n",
      "The following object is masked from 'package:base':\n",
      "\n",
      "    date\n",
      "\n",
      "Loading required package: PerformanceAnalytics\n",
      "Loading required package: xts\n",
      "Loading required package: zoo\n",
      "\n",
      "Attaching package: 'zoo'\n",
      "\n",
      "The following objects are masked from 'package:base':\n",
      "\n",
      "    as.Date, as.Date.numeric\n",
      "\n",
      "Registered S3 method overwritten by 'xts':\n",
      "  method     from\n",
      "  as.zoo.xts zoo \n",
      "\n",
      "Attaching package: 'xts'\n",
      "\n",
      "The following objects are masked from 'package:dplyr':\n",
      "\n",
      "    first, last\n",
      "\n",
      "\n",
      "Attaching package: 'PerformanceAnalytics'\n",
      "\n",
      "The following object is masked from 'package:graphics':\n",
      "\n",
      "    legend\n",
      "\n",
      "Loading required package: quantmod\n",
      "Loading required package: TTR\n",
      "Registered S3 method overwritten by 'quantmod':\n",
      "  method            from\n",
      "  as.zoo.data.frame zoo \n",
      "Version 0.4-0 included new data defaults. See ?getSymbols.\n",
      "== Need to Learn tidyquant? ====================================================\n",
      "Business Science offers a 1-hour course - Learning Lab #9: Performance Analysis & Portfolio Optimization with tidyquant!\n",
      "</> Learn more at: https://university.business-science.io/p/learning-labs-pro </>\n",
      "\n",
      "Attaching package: 'gridExtra'\n",
      "\n",
      "The following object is masked from 'package:dplyr':\n",
      "\n",
      "    combine\n",
      "\n",
      "\n",
      "Attaching package: 'parsedate'\n",
      "\n",
      "The following object is masked from 'package:readr':\n",
      "\n",
      "    parse_date\n",
      "\n"
     ]
    }
   ],
   "source": [
    "library(margins)\n",
    "library(tidyverse)\n",
    "library(tidyquant)\n",
    "library(modelr)\n",
    "library(gridExtra)\n",
    "library(grid)\n",
    "library(ggplot2)\n",
    "library(parsedate)\n",
    "library(readr)\n",
    "library(RColorBrewer)"
   ]
  },
  {
   "cell_type": "markdown",
   "metadata": {},
   "source": [
    "# Reading in the data"
   ]
  },
  {
   "cell_type": "code",
   "execution_count": 2,
   "metadata": {},
   "outputs": [
    {
     "name": "stderr",
     "output_type": "stream",
     "text": [
      "Parsed with column specification:\n",
      "cols(\n",
      "  order_date = col_character(),\n",
      "  invoice_date = col_character(),\n",
      "  invoice_num = col_double(),\n",
      "  cust_id = col_character(),\n",
      "  country = col_character(),\n",
      "  SumPurchases = col_double(),\n",
      "  shipping_charge = col_double(),\n",
      "  quantity = col_double(),\n",
      "  stock_code = col_double(),\n",
      "  tax = col_double(),\n",
      "  description = col_character()\n",
      ")\n"
     ]
    }
   ],
   "source": [
    "dataset <- read_csv(\"ndouble11_test.csv\")"
   ]
  },
  {
   "cell_type": "code",
   "execution_count": 3,
   "metadata": {},
   "outputs": [
    {
     "name": "stdout",
     "output_type": "stream",
     "text": [
      "Observations: 19,776\n",
      "Variables: 17\n",
      "$ order_date      <chr> \"2019-11-11 0:29\", \"2019-11-11 0:29\", \"2019-11-11 0...\n",
      "$ invoice_date    <chr> \"2019-11-11 0:30\", \"2019-11-11 0:30\", \"2019-11-11 0...\n",
      "$ invoice_num     <dbl> 7.156559e+13, 7.156559e+13, 7.156559e+13, 7.156559e...\n",
      "$ cust_id         <chr> \"余春<U+67AB>\", \"余春<U+67AB>\", \"<U+5F20>嘉<U+9759>\", \"<U+891A>慧芬\", \"大熊<U+5B9D>殿\", \"程程\", \"<U+53F6>素梅\", \"<U+53F6>...\n",
      "$ country         <chr> \"Chongqing\", \"Chongqing\", \"Yunnan\", \"Zhejiang\", \"Gu...\n",
      "$ SumPurchases    <dbl> 0.40, 0.40, 100.80, 12.23, 111.36, 530.61, 6.61, 6....\n",
      "$ shipping_charge <dbl> 0, 0, 0, 0, 0, 0, 0, 0, 0, 0, 0, 0, 0, 0, 0, 0, 0, ...\n",
      "$ quantity        <dbl> 2, 2, 1, 1, 4, 6, 1, 1, 1, 1, 2, 2, 1, 1, 1, 1, 1, ...\n",
      "$ stock_code      <dbl> 5.37183e+11, 5.47073e+11, 5.50601e+11, 5.86484e+11,...\n",
      "$ tax             <dbl> 0.00, 0.00, 8.41, 2.59, 19.52, 52.97, 3.39, 3.39, 2...\n",
      "$ description     <chr> \"테크 울드라이 용기 1500ML 세탁세제\", \"테크 울드라이 1300ML\", \"RE닥터그루...\n",
      "$ UnitPrice       <dbl> 0.200, 0.200, 100.800, 12.230, 27.840, 88.435, 6.61...\n",
      "$ order_day       <ord> 월, 월, 월, 월, 월, 월, 월, 월, 월, 월, 월, 월, 월, 월, 월, 월, 월, ...\n",
      "$ order_hour      <int> 0, 0, 0, 0, 1, 0, 0, 0, 0, 0, 0, 0, 0, 0, 0, 0, 0, ...\n",
      "$ order_min       <int> 30, 30, 0, 13, 12, 2, 25, 25, 1, 17, 53, 53, 28, 32...\n",
      "$ order_return    <chr> \"order\", \"order\", \"order\", \"order\", \"order\", \"order...\n",
      "$ province        <chr> \"Chongqing\", \"Chongqing\", \"Yunnan\", \"Zhejiang\", \"Gu...\n"
     ]
    }
   ],
   "source": [
    "dataset <- dataset %>% \n",
    " mutate(UnitPrice = SumPurchases/quantity,\n",
    "  order_day = wday(dataset$invoice_date, label=T),\n",
    "  order_hour = hour(dataset$invoice_date),\n",
    "  order_min = minute(dataset$invoice_date),\n",
    "  order_return = ifelse(SumPurchases >0, \"order\", \"return\"),\n",
    "  province = country) \n",
    "glimpse(dataset)"
   ]
  },
  {
   "cell_type": "markdown",
   "metadata": {},
   "source": [
    "# Exploratory Data Analysis (EDA)\n",
    "Transactions by country"
   ]
  },
  {
   "cell_type": "code",
   "execution_count": 5,
   "metadata": {},
   "outputs": [
    {
     "data": {
      "image/png": "[encoded data removed]",
      "text/plain": [
       "plot without title"
      ]
     },
     "metadata": {},
     "output_type": "display_data"
    }
   ],
   "source": [
    "x1 <- dataset %>%\n",
    " ggplot(aes(country))+ geom_bar()+\n",
    " scale_fill_manual(values = palette_light()) +\n",
    " theme_tq() +\n",
    " theme(legend.position = \"right\") +\n",
    " theme(axis.text.x = element_text(angle = 45, vjust = 1, hjust = 1)) +\n",
    " labs(x = \"\",\n",
    "  fill = \"\")\n",
    "x1"
   ]
  },
  {
   "cell_type": "markdown",
   "metadata": {},
   "source": [
    "Transactions over time\n",
    "- To get an idea of the number of transactions over time, we can use a frequency polygon. Here, we can see that the number purchases slightly increased during the last two months of recording, while the number of returns remained relatively stable."
   ]
  },
  {
   "cell_type": "code",
   "execution_count": 6,
   "metadata": {},
   "outputs": [
    {
     "data": {
      "image/png": "[encoded data removed]",
      "text/plain": [
       "plot without title"
      ]
     },
     "metadata": {},
     "output_type": "display_data"
    }
   ],
   "source": [
    "x2 <- dataset %>%\n",
    " ggplot(aes(x = order_hour)) +\n",
    " geom_freqpoly(bins = 100, size = 1, alpha = 0.8) +\n",
    " scale_color_manual(values = palette_light()) +\n",
    " theme_tq() +\n",
    " guides(color = FALSE) +\n",
    " labs(title = \"Number of purchases over time\",\n",
    "  x = \"\")\n",
    "x2"
   ]
  },
  {
   "cell_type": "markdown",
   "metadata": {},
   "source": [
    "Income/loss from transactions\n",
    "- Let’s look at the income/loss from transactions over time. Here, we plot the sum of income and losses for each day. The income seems to increase slightly during the last month, while losses remained more stable. The only severe outlier is the last day."
   ]
  },
  {
   "cell_type": "code",
   "execution_count": 7,
   "metadata": {},
   "outputs": [
    {
     "data": {
      "image/png": "[encoded data removed]",
      "text/plain": [
       "plot without title"
      ]
     },
     "metadata": {},
     "output_type": "display_data"
    }
   ],
   "source": [
    "x3 <- dataset %>%\n",
    " filter(order_hour==0) %>% \n",
    " group_by(order_min) %>%\n",
    " summarise(Total_amount = sum(SumPurchases)) %>%\n",
    " ggplot(aes(x = order_min, y = Total_amount)) +\n",
    " geom_line(size = 1, alpha = 0.8) +\n",
    " scale_color_manual(values = palette_light()) +\n",
    " theme_tq() +\n",
    " guides(color = FALSE) +\n",
    " labs(title = \"Income from purchases for just one hour\",\n",
    "  x = \"11:11 00:00 - 00:59\",\n",
    "  y = \"sum of amount\",\n",
    "  color = \"\")\n",
    "x3"
   ]
  },
  {
   "cell_type": "markdown",
   "metadata": {},
   "source": [
    "Transactions by day and time"
   ]
  },
  {
   "cell_type": "code",
   "execution_count": 8,
   "metadata": {},
   "outputs": [
    {
     "data": {
      "image/png": "[encoded data removed]",
      "text/plain": [
       "plot without title"
      ]
     },
     "metadata": {},
     "output_type": "display_data"
    }
   ],
   "source": [
    "x4 <- dataset %>%\n",
    " ggplot(aes(x = order_min, y = order_hour)) +\n",
    " stat_bin2d(alpha = 0.8, bins = 25, color = \"white\") +\n",
    " scale_fill_gradientn(colours = c(palette_light()[[1]], palette_light()[[2]])) +\n",
    " theme_tq() +\n",
    " theme(legend.position = \"right\") +\n",
    " labs(title = \"Purchases per hour and min\")\n",
    "x4"
   ]
  },
  {
   "cell_type": "markdown",
   "metadata": {},
   "source": [
    "Items ; Also of interest are the items that are being purchases the most. Here, we sum up the net quantities for each item."
   ]
  },
  {
   "cell_type": "code",
   "execution_count": 15,
   "metadata": {},
   "outputs": [
    {
     "data": {
      "text/html": [
       "<table>\n",
       "<thead><tr><th scope=col>stock_code</th><th scope=col>description</th><th scope=col>sum</th></tr></thead>\n",
       "<tbody>\n",
       "\t<tr><td>5.96291e+11                                                                                </td><td>윤고 더 퍼스트 400ml+50ml(신)_기획                                                         </td><td>5210                                                                                       </td></tr>\n",
       "\t<tr><td>5.47073e+11                                                                                </td><td>테크 울드라이 1300ML                                                                       </td><td>3752                                                                                       </td></tr>\n",
       "\t<tr><td>5.37183e+11                                                                                </td><td>테크 울드라이 용기 1500ML 세탁세제                                                         </td><td>3724                                                                                       </td></tr>\n",
       "\t<tr><td>5.37297e+11                                                                                </td><td>페리오 토탈 7 마일드 120g                                                                  </td><td>2256                                                                                       </td></tr>\n",
       "\t<tr><td>5.40352e+11                                                                                </td><td>FiJi시트세제 30매*2                                                                        </td><td>1897                                                                                       </td></tr>\n",
       "\t<tr><td>5.98468e+11                                                                                                                            </td><td><span style=white-space:pre-wrap>온)보타니크 바디워시 레몬&amp;노니 500mL                                                       </span></td><td>1185                                                                                                                                   </td></tr>\n",
       "\t<tr><td>5.42578e+11                                                                                </td><td>죽염 잇몸고 펌프 치약 285g*2+V죽염 칫솔 잇몸전문 2+1입_베                                  </td><td> 999                                                                                       </td></tr>\n",
       "\t<tr><td>5.50601e+11                                                                                </td><td>RE닥터그루트 지성두피용 샴푸 400ml+ RE닥터그루트 지성두피용 200ml 증정                     </td><td> 844                                                                                       </td></tr>\n",
       "\t<tr><td>5.86269e+11                                                                                </td><td>염모제 스마트염색(원터치)_자연갈색                                                         </td><td> 500                                                                                       </td></tr>\n",
       "\t<tr><td>5.72042e+11                                                                                </td><td>죽염 히말라야 플로럴민트 100g                                                              </td><td> 472                                                                                       </td></tr>\n",
       "\t<tr><td>5.71507e+11                                                                                </td><td>죽염 히말라야 아이스 카밍민트 100g                                                         </td><td> 459                                                                                       </td></tr>\n",
       "\t<tr><td>5.86485e+11                                                                                </td><td>오가니스트 히말라야핑크솔트 두피스케일링 샴푸 500ml                                        </td><td> 458                                                                                       </td></tr>\n",
       "\t<tr><td>5.86268e+11                                                                                </td><td>염모제 스마트염색(원터치)_흑갈색                                                           </td><td> 453                                                                                       </td></tr>\n",
       "\t<tr><td>5.63728e+11                                                                                </td><td>로즈 바디에센스 7ml_샤셰                                                                   </td><td> 450                                                                                       </td></tr>\n",
       "\t<tr><td>5.86485e+11                                                                                                                            </td><td><span style=white-space:pre-wrap>오가니스트 히말라야핑크솔트 두피스케일링 샴푸 500ml*2+오가)로즈마리&amp;민트샴푸200ML          </span></td><td> 448                                                                                                                                   </td></tr>\n",
       "\t<tr><td>5.68844e+11                                                                                </td><td>온)더내추럴 순한 아보카도 클렌징폼120G                                                     </td><td> 412                                                                                       </td></tr>\n",
       "\t<tr><td>5.69065e+11                                                                                </td><td>온)더내추럴 촉촉 올리브 클렌징폼120G                                                       </td><td> 412                                                                                       </td></tr>\n",
       "\t<tr><td>5.37305e+11                                                                                </td><td>온더바디 캐시미어퍼퓸바디로션(해피)                                                        </td><td> 410                                                                                       </td></tr>\n",
       "\t<tr><td>5.40352e+11                                                                                    </td><td>오가니스트 체리불러썸 샴푸500ml+오가니스트 체리불러썸 컨디500ml+오가)로즈마리&amp;민트샴푸200ML</td><td> 400                                                                                           </td></tr>\n",
       "\t<tr><td>5.86484e+11                                                                                </td><td>염모제 스마트염색(원터치)_흑색                                                             </td><td> 367                                                                                       </td></tr>\n",
       "</tbody>\n",
       "</table>\n"
      ],
      "text/latex": [
       "\\begin{tabular}{r|lll}\n",
       " stock\\_code & description & sum\\\\\n",
       "\\hline\n",
       "\t 5.96291e+11                                                                                   & 윤고 더 퍼스트 400ml+50ml(신)\\_기획                                                          & 5210                                                                                         \\\\\n",
       "\t 5.47073e+11                                                                                 & 테크 울드라이 1300ML                                                                        & 3752                                                                                       \\\\\n",
       "\t 5.37183e+11                                                                                 & 테크 울드라이 용기 1500ML 세탁세제                                                          & 3724                                                                                       \\\\\n",
       "\t 5.37297e+11                                                                                 & 페리오 토탈 7 마일드 120g                                                                   & 2256                                                                                       \\\\\n",
       "\t 5.40352e+11                                                                                 & FiJi시트세제 30매*2                                                                         & 1897                                                                                       \\\\\n",
       "\t 5.98468e+11                                                                                   & 온)보타니크 바디워시 레몬\\&노니 500mL                                                        & 1185                                                                                         \\\\\n",
       "\t 5.42578e+11                                                                                   & 죽염 잇몸고 펌프 치약 285g*2+V죽염 칫솔 잇몸전문 2+1입\\_베                                   &  999                                                                                         \\\\\n",
       "\t 5.50601e+11                                                                                 & RE닥터그루트 지성두피용 샴푸 400ml+ RE닥터그루트 지성두피용 200ml 증정                      &  844                                                                                       \\\\\n",
       "\t 5.86269e+11                                                                                   & 염모제 스마트염색(원터치)\\_자연갈색                                                          &  500                                                                                         \\\\\n",
       "\t 5.72042e+11                                                                                 & 죽염 히말라야 플로럴민트 100g                                                               &  472                                                                                       \\\\\n",
       "\t 5.71507e+11                                                                                 & 죽염 히말라야 아이스 카밍민트 100g                                                          &  459                                                                                       \\\\\n",
       "\t 5.86485e+11                                                                                 & 오가니스트 히말라야핑크솔트 두피스케일링 샴푸 500ml                                         &  458                                                                                       \\\\\n",
       "\t 5.86268e+11                                                                                   & 염모제 스마트염색(원터치)\\_흑갈색                                                            &  453                                                                                         \\\\\n",
       "\t 5.63728e+11                                                                                   & 로즈 바디에센스 7ml\\_샤셰                                                                    &  450                                                                                         \\\\\n",
       "\t 5.86485e+11                                                                                   & 오가니스트 히말라야핑크솔트 두피스케일링 샴푸 500ml*2+오가)로즈마리\\&민트샴푸200ML           &  448                                                                                         \\\\\n",
       "\t 5.68844e+11                                                                                 & 온)더내추럴 순한 아보카도 클렌징폼120G                                                      &  412                                                                                       \\\\\n",
       "\t 5.69065e+11                                                                                 & 온)더내추럴 촉촉 올리브 클렌징폼120G                                                        &  412                                                                                       \\\\\n",
       "\t 5.37305e+11                                                                                 & 온더바디 캐시미어퍼퓸바디로션(해피)                                                         &  410                                                                                       \\\\\n",
       "\t 5.40352e+11                                                                                   & 오가니스트 체리불러썸 샴푸500ml+오가니스트 체리불러썸 컨디500ml+오가)로즈마리\\&민트샴푸200ML &  400                                                                                         \\\\\n",
       "\t 5.86484e+11                                                                                   & 염모제 스마트염색(원터치)\\_흑색                                                              &  367                                                                                         \\\\\n",
       "\\end{tabular}\n"
      ],
      "text/markdown": [
       "\n",
       "| stock_code | description | sum |\n",
       "|---|---|---|\n",
       "| 5.96291e+11                                                                                 | 윤고 더 퍼스트 400ml+50ml(신)_기획                                                          | 5210                                                                                        |\n",
       "| 5.47073e+11                                                                                 | 테크 울드라이 1300ML                                                                        | 3752                                                                                        |\n",
       "| 5.37183e+11                                                                                 | 테크 울드라이 용기 1500ML 세탁세제                                                          | 3724                                                                                        |\n",
       "| 5.37297e+11                                                                                 | 페리오 토탈 7 마일드 120g                                                                   | 2256                                                                                        |\n",
       "| 5.40352e+11                                                                                 | FiJi시트세제 30매*2                                                                         | 1897                                                                                        |\n",
       "| 5.98468e+11                                                                                 | 온)보타니크 바디워시 레몬&노니 500mL                                                        | 1185                                                                                        |\n",
       "| 5.42578e+11                                                                                 | 죽염 잇몸고 펌프 치약 285g*2+V죽염 칫솔 잇몸전문 2+1입_베                                   |  999                                                                                        |\n",
       "| 5.50601e+11                                                                                 | RE닥터그루트 지성두피용 샴푸 400ml+ RE닥터그루트 지성두피용 200ml 증정                      |  844                                                                                        |\n",
       "| 5.86269e+11                                                                                 | 염모제 스마트염색(원터치)_자연갈색                                                          |  500                                                                                        |\n",
       "| 5.72042e+11                                                                                 | 죽염 히말라야 플로럴민트 100g                                                               |  472                                                                                        |\n",
       "| 5.71507e+11                                                                                 | 죽염 히말라야 아이스 카밍민트 100g                                                          |  459                                                                                        |\n",
       "| 5.86485e+11                                                                                 | 오가니스트 히말라야핑크솔트 두피스케일링 샴푸 500ml                                         |  458                                                                                        |\n",
       "| 5.86268e+11                                                                                 | 염모제 스마트염색(원터치)_흑갈색                                                            |  453                                                                                        |\n",
       "| 5.63728e+11                                                                                 | 로즈 바디에센스 7ml_샤셰                                                                    |  450                                                                                        |\n",
       "| 5.86485e+11                                                                                 | 오가니스트 히말라야핑크솔트 두피스케일링 샴푸 500ml*2+오가)로즈마리&민트샴푸200ML           |  448                                                                                        |\n",
       "| 5.68844e+11                                                                                 | 온)더내추럴 순한 아보카도 클렌징폼120G                                                      |  412                                                                                        |\n",
       "| 5.69065e+11                                                                                 | 온)더내추럴 촉촉 올리브 클렌징폼120G                                                        |  412                                                                                        |\n",
       "| 5.37305e+11                                                                                 | 온더바디 캐시미어퍼퓸바디로션(해피)                                                         |  410                                                                                        |\n",
       "| 5.40352e+11                                                                                 | 오가니스트 체리불러썸 샴푸500ml+오가니스트 체리불러썸 컨디500ml+오가)로즈마리&민트샴푸200ML |  400                                                                                        |\n",
       "| 5.86484e+11                                                                                 | 염모제 스마트염색(원터치)_흑색                                                              |  367                                                                                        |\n",
       "\n"
      ],
      "text/plain": [
       "   stock_code \n",
       "1  5.96291e+11\n",
       "2  5.47073e+11\n",
       "3  5.37183e+11\n",
       "4  5.37297e+11\n",
       "5  5.40352e+11\n",
       "6  5.98468e+11\n",
       "7  5.42578e+11\n",
       "8  5.50601e+11\n",
       "9  5.86269e+11\n",
       "10 5.72042e+11\n",
       "11 5.71507e+11\n",
       "12 5.86485e+11\n",
       "13 5.86268e+11\n",
       "14 5.63728e+11\n",
       "15 5.86485e+11\n",
       "16 5.68844e+11\n",
       "17 5.69065e+11\n",
       "18 5.37305e+11\n",
       "19 5.40352e+11\n",
       "20 5.86484e+11\n",
       "   description                                                                                \n",
       "1  윤고 더 퍼스트 400ml+50ml(신)_기획                                                         \n",
       "2  테크 울드라이 1300ML                                                                       \n",
       "3  테크 울드라이 용기 1500ML 세탁세제                                                         \n",
       "4  페리오 토탈 7 마일드 120g                                                                  \n",
       "5  FiJi시트세제 30매*2                                                                        \n",
       "6  온)보타니크 바디워시 레몬&노니 500mL                                                       \n",
       "7  죽염 잇몸고 펌프 치약 285g*2+V죽염 칫솔 잇몸전문 2+1입_베                                  \n",
       "8  RE닥터그루트 지성두피용 샴푸 400ml+ RE닥터그루트 지성두피용 200ml 증정                     \n",
       "9  염모제 스마트염색(원터치)_자연갈색                                                         \n",
       "10 죽염 히말라야 플로럴민트 100g                                                              \n",
       "11 죽염 히말라야 아이스 카밍민트 100g                                                         \n",
       "12 오가니스트 히말라야핑크솔트 두피스케일링 샴푸 500ml                                        \n",
       "13 염모제 스마트염색(원터치)_흑갈색                                                           \n",
       "14 로즈 바디에센스 7ml_샤셰                                                                   \n",
       "15 오가니스트 히말라야핑크솔트 두피스케일링 샴푸 500ml*2+오가)로즈마리&민트샴푸200ML          \n",
       "16 온)더내추럴 순한 아보카도 클렌징폼120G                                                     \n",
       "17 온)더내추럴 촉촉 올리브 클렌징폼120G                                                       \n",
       "18 온더바디 캐시미어퍼퓸바디로션(해피)                                                        \n",
       "19 오가니스트 체리불러썸 샴푸500ml+오가니스트 체리불러썸 컨디500ml+오가)로즈마리&민트샴푸200ML\n",
       "20 염모제 스마트염색(원터치)_흑색                                                             \n",
       "   sum \n",
       "1  5210\n",
       "2  3752\n",
       "3  3724\n",
       "4  2256\n",
       "5  1897\n",
       "6  1185\n",
       "7   999\n",
       "8   844\n",
       "9   500\n",
       "10  472\n",
       "11  459\n",
       "12  458\n",
       "13  453\n",
       "14  450\n",
       "15  448\n",
       "16  412\n",
       "17  412\n",
       "18  410\n",
       "19  400\n",
       "20  367"
      ]
     },
     "metadata": {},
     "output_type": "display_data"
    }
   ],
   "source": [
    "dataset %>% \n",
    " group_by(stock_code, description) %>% \n",
    " summarise(sum = sum(quantity)) %>% \n",
    " arrange(-sum) %>% \n",
    " head(20)"
   ]
  },
  {
   "cell_type": "markdown",
   "metadata": {},
   "source": [
    "As we can see in the plots below, the majority of items is purchases only occasionally, while a few items are purchased a lot."
   ]
  },
  {
   "cell_type": "code",
   "execution_count": 27,
   "metadata": {},
   "outputs": [
    {
     "data": {
      "image/png": "[encoded data removed]",
      "text/plain": [
       "plot without title"
      ]
     },
     "metadata": {},
     "output_type": "display_data"
    }
   ],
   "source": [
    "p1 <- dataset %>%\n",
    " group_by(stock_code, description) %>% \n",
    " summarise(sumqty = sum(quantity)) %>% \n",
    " ggplot(aes(x = sumqty)) +\n",
    " geom_density(fill = palette_light()[[1]], alpha = 0.8) +\n",
    " theme_tq()\n",
    "\n",
    "p2 <- dataset %>%\n",
    " group_by(stock_code, description) %>% \n",
    " summarise(sumqty = sum(quantity)) %>% \n",
    " filter(sumqty>0 & sumqty<1000) %>%\n",
    " ggplot(aes(x = sumqty)) +\n",
    " geom_density(fill = palette_light()[[1]], alpha = 0.8) +\n",
    " theme_tq()\n",
    "\n",
    "grid.arrange(p1, p2, widths = c(0.5, 0.5))"
   ]
  },
  {
   "cell_type": "markdown",
   "metadata": {},
   "source": [
    "We can also calculate on how many different hours, items have been purchased."
   ]
  },
  {
   "cell_type": "code",
   "execution_count": 30,
   "metadata": {},
   "outputs": [
    {
     "data": {
      "text/html": [
       "<table>\n",
       "<thead><tr><th scope=col>order_hour</th><th scope=col>stock_code</th><th scope=col>description</th><th scope=col>sum</th></tr></thead>\n",
       "<tbody>\n",
       "\t<tr><td>0                                 </td><td>5.47073e+11                       </td><td>테크 울드라이 1300ML              </td><td>3426                              </td></tr>\n",
       "\t<tr><td>0                                 </td><td>5.37183e+11                       </td><td>테크 울드라이 용기 1500ML 세탁세제</td><td>3398                              </td></tr>\n",
       "\t<tr><td>0                                 </td><td>5.96291e+11                       </td><td>윤고 더 퍼스트 400ml+50ml(신)_기획</td><td>3025                              </td></tr>\n",
       "\t<tr><td>0                                 </td><td>5.37297e+11                       </td><td>페리오 토탈 7 마일드 120g         </td><td>2154                              </td></tr>\n",
       "\t<tr><td>0                                 </td><td>5.40352e+11                       </td><td>FiJi시트세제 30매*2               </td><td>1694                              </td></tr>\n",
       "</tbody>\n",
       "</table>\n"
      ],
      "text/latex": [
       "\\begin{tabular}{r|llll}\n",
       " order\\_hour & stock\\_code & description & sum\\\\\n",
       "\\hline\n",
       "\t 0                                  & 5.47073e+11                        & 테크 울드라이 1300ML               & 3426                              \\\\\n",
       "\t 0                                  & 5.37183e+11                        & 테크 울드라이 용기 1500ML 세탁세제 & 3398                              \\\\\n",
       "\t 0                                    & 5.96291e+11                          & 윤고 더 퍼스트 400ml+50ml(신)\\_기획 & 3025                                \\\\\n",
       "\t 0                                  & 5.37297e+11                        & 페리오 토탈 7 마일드 120g          & 2154                              \\\\\n",
       "\t 0                                  & 5.40352e+11                        & FiJi시트세제 30매*2                & 1694                              \\\\\n",
       "\\end{tabular}\n"
      ],
      "text/markdown": [
       "\n",
       "| order_hour | stock_code | description | sum |\n",
       "|---|---|---|---|\n",
       "| 0                                  | 5.47073e+11                        | 테크 울드라이 1300ML               | 3426                               |\n",
       "| 0                                  | 5.37183e+11                        | 테크 울드라이 용기 1500ML 세탁세제 | 3398                               |\n",
       "| 0                                  | 5.96291e+11                        | 윤고 더 퍼스트 400ml+50ml(신)_기획 | 3025                               |\n",
       "| 0                                  | 5.37297e+11                        | 페리오 토탈 7 마일드 120g          | 2154                               |\n",
       "| 0                                  | 5.40352e+11                        | FiJi시트세제 30매*2                | 1694                               |\n",
       "\n"
      ],
      "text/plain": [
       "  order_hour stock_code  description                        sum \n",
       "1 0          5.47073e+11 테크 울드라이 1300ML               3426\n",
       "2 0          5.37183e+11 테크 울드라이 용기 1500ML 세탁세제 3398\n",
       "3 0          5.96291e+11 윤고 더 퍼스트 400ml+50ml(신)_기획 3025\n",
       "4 0          5.37297e+11 페리오 토탈 7 마일드 120g          2154\n",
       "5 0          5.40352e+11 FiJi시트세제 30매*2                1694"
      ]
     },
     "metadata": {},
     "output_type": "display_data"
    },
    {
     "data": {
      "text/html": [
       "<table>\n",
       "<thead><tr><th scope=col>order_hour</th><th scope=col>stock_code</th><th scope=col>description</th><th scope=col>sum</th></tr></thead>\n",
       "<tbody>\n",
       "\t<tr><td>10                                                                                         </td><td>5.73353e+11                                                                                </td><td>온)플)아이리스 바디워시500g_12입(y16)                                                      </td><td>1                                                                                          </td></tr>\n",
       "\t<tr><td>13                                                                                         </td><td>5.49272e+11                                                                                </td><td>귀애랑 중형 18P*3+ON 12P*1 + 슈퍼롱 10P*1 + 소형 *1                                        </td><td>1                                                                                          </td></tr>\n",
       "\t<tr><td>14                                                                                         </td><td>5.58186e+11                                                                                </td><td>행복 가득 E 1호(A7)                                                                        </td><td>1                                                                                          </td></tr>\n",
       "\t<tr><td>18                                                                                         </td><td>5.40352e+11                                                                                </td><td>오가니스트 발효초 샴푸 500ml                                                               </td><td>1                                                                                          </td></tr>\n",
       "\t<tr><td>22                                                                                             </td><td>5.40352e+11                                                                                    </td><td>오가니스트 체리불러썸 샴푸500ml+오가니스트 체리불러썸 컨디500ml+오가)로즈마리&amp;민트샴푸200ML</td><td>1                                                                                              </td></tr>\n",
       "</tbody>\n",
       "</table>\n"
      ],
      "text/latex": [
       "\\begin{tabular}{r|llll}\n",
       " order\\_hour & stock\\_code & description & sum\\\\\n",
       "\\hline\n",
       "\t 10                                                                                            & 5.73353e+11                                                                                   & 온)플)아이리스 바디워시500g\\_12입(y16)                                                       & 1                                                                                            \\\\\n",
       "\t 13                                                                                          & 5.49272e+11                                                                                 & 귀애랑 중형 18P*3+ON 12P*1 + 슈퍼롱 10P*1 + 소형 *1                                         & 1                                                                                          \\\\\n",
       "\t 14                                                                                          & 5.58186e+11                                                                                 & 행복 가득 E 1호(A7)                                                                         & 1                                                                                          \\\\\n",
       "\t 18                                                                                          & 5.40352e+11                                                                                 & 오가니스트 발효초 샴푸 500ml                                                                & 1                                                                                          \\\\\n",
       "\t 22                                                                                            & 5.40352e+11                                                                                   & 오가니스트 체리불러썸 샴푸500ml+오가니스트 체리불러썸 컨디500ml+오가)로즈마리\\&민트샴푸200ML & 1                                                                                            \\\\\n",
       "\\end{tabular}\n"
      ],
      "text/markdown": [
       "\n",
       "| order_hour | stock_code | description | sum |\n",
       "|---|---|---|---|\n",
       "| 10                                                                                          | 5.73353e+11                                                                                 | 온)플)아이리스 바디워시500g_12입(y16)                                                       | 1                                                                                           |\n",
       "| 13                                                                                          | 5.49272e+11                                                                                 | 귀애랑 중형 18P*3+ON 12P*1 + 슈퍼롱 10P*1 + 소형 *1                                         | 1                                                                                           |\n",
       "| 14                                                                                          | 5.58186e+11                                                                                 | 행복 가득 E 1호(A7)                                                                         | 1                                                                                           |\n",
       "| 18                                                                                          | 5.40352e+11                                                                                 | 오가니스트 발효초 샴푸 500ml                                                                | 1                                                                                           |\n",
       "| 22                                                                                          | 5.40352e+11                                                                                 | 오가니스트 체리불러썸 샴푸500ml+오가니스트 체리불러썸 컨디500ml+오가)로즈마리&민트샴푸200ML | 1                                                                                           |\n",
       "\n"
      ],
      "text/plain": [
       "  order_hour stock_code \n",
       "1 10         5.73353e+11\n",
       "2 13         5.49272e+11\n",
       "3 14         5.58186e+11\n",
       "4 18         5.40352e+11\n",
       "5 22         5.40352e+11\n",
       "  description                                                                                \n",
       "1 온)플)아이리스 바디워시500g_12입(y16)                                                      \n",
       "2 귀애랑 중형 18P*3+ON 12P*1 + 슈퍼롱 10P*1 + 소형 *1                                        \n",
       "3 행복 가득 E 1호(A7)                                                                        \n",
       "4 오가니스트 발효초 샴푸 500ml                                                               \n",
       "5 오가니스트 체리불러썸 샴푸500ml+오가니스트 체리불러썸 컨디500ml+오가)로즈마리&민트샴푸200ML\n",
       "  sum\n",
       "1 1  \n",
       "2 1  \n",
       "3 1  \n",
       "4 1  \n",
       "5 1  "
      ]
     },
     "metadata": {},
     "output_type": "display_data"
    }
   ],
   "source": [
    "most_sold <- dataset %>%\n",
    " group_by(order_hour, stock_code, description) %>%\n",
    " summarise(sum = sum(quantity)) %>%\n",
    " group_by(order_hour,description) %>%\n",
    " arrange(order_hour,-sum)\n",
    "head(most_sold,5)\n",
    "least_sold <- dataset %>%\n",
    " group_by(order_hour, stock_code, description) %>%\n",
    " summarise(sum = sum(quantity)) %>%\n",
    " group_by(order_hour,description) %>%\n",
    " arrange(order_hour,-sum)\n",
    "tail(most_sold,5)"
   ]
  },
  {
   "cell_type": "markdown",
   "metadata": {},
   "source": [
    "Let’s look at Yungo & Tech's distribution of sold quantities per day"
   ]
  },
  {
   "cell_type": "code",
   "execution_count": 31,
   "metadata": {},
   "outputs": [
    {
     "data": {
      "image/png": "[encoded data removed]",
      "text/plain": [
       "plot without title"
      ]
     },
     "metadata": {},
     "output_type": "display_data"
    }
   ],
   "source": [
    "x5 <- \n",
    "dataset %>%\n",
    " filter(stock_code == 547073000000) %>%\n",
    " group_by(order_min) %>%\n",
    " summarise(sum = sum(quantity)) %>%\n",
    " ggplot(aes(x = order_min, y = sum)) +\n",
    " geom_line(size = 1, alpha = 0.1) +\n",
    " scale_color_manual(values = palette_light()) +\n",
    " theme_tq() +\n",
    " labs(x = \"\",\n",
    "  y = \"sum of quantities\",\n",
    "  color = \"\",\n",
    "  title = \"Transactions of Tech 1300ml\")\n",
    "\n",
    "x6 <- \n",
    " dataset %>%\n",
    " filter(stock_code == 596291000000) %>%\n",
    " group_by(order_min) %>%\n",
    " summarise(sum = sum(quantity)) %>%\n",
    " ggplot(aes(x = order_min, y = sum)) +\n",
    " geom_line(size = 1, alpha = 0.1) +\n",
    " scale_color_manual(values = palette_light()) +\n",
    " theme_tq() +\n",
    " labs(x = \"\",\n",
    "  y = \"sum of quantities\",\n",
    "  color = \"\",\n",
    "  title = \"Transactions of Yungo 400+50\")\n",
    "\n",
    "grid.arrange(x5, x6, widths = c(0.5, 0.5))"
   ]
  }
 ],
 "metadata": {
  "kernelspec": {
   "display_name": "R",
   "language": "R",
   "name": "ir"
  },
  "language_info": {
   "codemirror_mode": "r",
   "file_extension": ".r",
   "mimetype": "text/x-r-source",
   "name": "R",
   "pygments_lexer": "r",
   "version": "3.6.1"
  }
 },
 "nbformat": 4,
 "nbformat_minor": 2
}
